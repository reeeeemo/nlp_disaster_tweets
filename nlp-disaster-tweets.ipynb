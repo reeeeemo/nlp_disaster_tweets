{
 "cells": [
  {
   "cell_type": "markdown",
   "id": "75218854",
   "metadata": {
    "papermill": {
     "duration": 0.00943,
     "end_time": "2025-04-04T18:47:11.916851",
     "exception": false,
     "start_time": "2025-04-04T18:47:11.907421",
     "status": "completed"
    },
    "tags": []
   },
   "source": [
    "# NLP Predicting Disasters via Tweets\n",
    "\n",
    "In this competition, we are challenged to build a machine learning model that predicts which tweets are referencing real disasters or not."
   ]
  },
  {
   "cell_type": "code",
   "execution_count": 1,
   "id": "7ac7cc23",
   "metadata": {
    "_cell_guid": "b1076dfc-b9ad-4769-8c92-a6c4dae69d19",
    "_uuid": "8f2839f25d086af736a60e9eeb907d3b93b6e0e5",
    "execution": {
     "iopub.execute_input": "2025-04-04T18:47:11.935078Z",
     "iopub.status.busy": "2025-04-04T18:47:11.934761Z",
     "iopub.status.idle": "2025-04-04T18:47:33.111161Z",
     "shell.execute_reply": "2025-04-04T18:47:33.110471Z"
    },
    "papermill": {
     "duration": 21.187428,
     "end_time": "2025-04-04T18:47:33.112805",
     "exception": false,
     "start_time": "2025-04-04T18:47:11.925377",
     "status": "completed"
    },
    "tags": []
   },
   "outputs": [],
   "source": [
    "import torch\n",
    "import pandas as pd\n",
    "import seaborn as sns\n",
    "import numpy as np\n",
    "import matplotlib.pyplot as plt\n",
    "from wordcloud import WordCloud\n",
    "import spacy\n",
    "from sklearn.feature_extraction.text import TfidfVectorizer\n",
    "import requests\n",
    "from bs4 import BeautifulSoup\n",
    "from typing import List\n",
    "from sklearn.model_selection import train_test_split\n",
    "from sklearn.preprocessing import OneHotEncoder, LabelEncoder\n",
    "from scipy.sparse import hstack\n",
    "from sklearn.linear_model import LogisticRegression\n",
    "from sklearn.metrics import classification_report, accuracy_score, f1_score, confusion_matrix, ConfusionMatrixDisplay\n",
    "import xgboost as xgb\n",
    "from collections import Counter\n",
    "from torch.nn.utils.rnn import pad_sequence\n",
    "from torch.utils.data import Dataset, DataLoader, random_split\n",
    "import torch.nn as nn\n",
    "from torchinfo import summary\n",
    "import kagglehub\n",
    "import keras\n",
    "import keras_hub\n",
    "from keras.callbacks import EarlyStopping"
   ]
  },
  {
   "cell_type": "code",
   "execution_count": 2,
   "id": "447219f6",
   "metadata": {
    "execution": {
     "iopub.execute_input": "2025-04-04T18:47:33.131528Z",
     "iopub.status.busy": "2025-04-04T18:47:33.130961Z",
     "iopub.status.idle": "2025-04-04T18:47:33.135433Z",
     "shell.execute_reply": "2025-04-04T18:47:33.134767Z"
    },
    "papermill": {
     "duration": 0.015054,
     "end_time": "2025-04-04T18:47:33.136690",
     "exception": false,
     "start_time": "2025-04-04T18:47:33.121636",
     "status": "completed"
    },
    "tags": []
   },
   "outputs": [
    {
     "name": "stdout",
     "output_type": "stream",
     "text": [
      "cuda\n"
     ]
    }
   ],
   "source": [
    "device = torch.device(\"cuda\" if torch.cuda.is_available() else 'cpu')\n",
    "print(device)"
   ]
  },
  {
   "cell_type": "markdown",
   "id": "fe09c118",
   "metadata": {
    "papermill": {
     "duration": 0.008104,
     "end_time": "2025-04-04T18:47:33.153355",
     "exception": false,
     "start_time": "2025-04-04T18:47:33.145251",
     "status": "completed"
    },
    "tags": []
   },
   "source": [
    "# Data EDA + Analysis\n",
    "\n",
    "When we look at the data, we should see 4 categories:\n",
    "- Keyword (most relevant word in the text)\n",
    "- Location \n",
    "- Text (tweet body text)\n",
    "- Target (disaster no/yes represented as 0 and 1)"
   ]
  },
  {
   "cell_type": "code",
   "execution_count": 3,
   "id": "6cd7b556",
   "metadata": {
    "execution": {
     "iopub.execute_input": "2025-04-04T18:47:33.171143Z",
     "iopub.status.busy": "2025-04-04T18:47:33.170905Z",
     "iopub.status.idle": "2025-04-04T18:47:33.251787Z",
     "shell.execute_reply": "2025-04-04T18:47:33.250895Z"
    },
    "papermill": {
     "duration": 0.091641,
     "end_time": "2025-04-04T18:47:33.253338",
     "exception": false,
     "start_time": "2025-04-04T18:47:33.161697",
     "status": "completed"
    },
    "tags": []
   },
   "outputs": [
    {
     "name": "stdout",
     "output_type": "stream",
     "text": [
      "Train Shape: (7613, 5)\n",
      "\n",
      "<class 'pandas.core.frame.DataFrame'>\n",
      "RangeIndex: 7613 entries, 0 to 7612\n",
      "Data columns (total 5 columns):\n",
      " #   Column    Non-Null Count  Dtype \n",
      "---  ------    --------------  ----- \n",
      " 0   id        7613 non-null   int64 \n",
      " 1   keyword   7552 non-null   object\n",
      " 2   location  5080 non-null   object\n",
      " 3   text      7613 non-null   object\n",
      " 4   target    7613 non-null   int64 \n",
      "dtypes: int64(2), object(3)\n",
      "memory usage: 297.5+ KB\n"
     ]
    }
   ],
   "source": [
    "train = pd.read_csv('/kaggle/input/nlp-getting-started/train.csv')\n",
    "\n",
    "print(f'Train Shape: {train.shape}\\n')\n",
    "train.info()"
   ]
  },
  {
   "cell_type": "code",
   "execution_count": 4,
   "id": "4fc2e1ec",
   "metadata": {
    "execution": {
     "iopub.execute_input": "2025-04-04T18:47:33.271983Z",
     "iopub.status.busy": "2025-04-04T18:47:33.271701Z",
     "iopub.status.idle": "2025-04-04T18:47:33.289060Z",
     "shell.execute_reply": "2025-04-04T18:47:33.288220Z"
    },
    "papermill": {
     "duration": 0.027811,
     "end_time": "2025-04-04T18:47:33.290416",
     "exception": false,
     "start_time": "2025-04-04T18:47:33.262605",
     "status": "completed"
    },
    "tags": []
   },
   "outputs": [
    {
     "data": {
      "text/html": [
       "<div>\n",
       "<style scoped>\n",
       "    .dataframe tbody tr th:only-of-type {\n",
       "        vertical-align: middle;\n",
       "    }\n",
       "\n",
       "    .dataframe tbody tr th {\n",
       "        vertical-align: top;\n",
       "    }\n",
       "\n",
       "    .dataframe thead th {\n",
       "        text-align: right;\n",
       "    }\n",
       "</style>\n",
       "<table border=\"1\" class=\"dataframe\">\n",
       "  <thead>\n",
       "    <tr style=\"text-align: right;\">\n",
       "      <th></th>\n",
       "      <th>id</th>\n",
       "      <th>keyword</th>\n",
       "      <th>location</th>\n",
       "      <th>text</th>\n",
       "      <th>target</th>\n",
       "    </tr>\n",
       "  </thead>\n",
       "  <tbody>\n",
       "    <tr>\n",
       "      <th>0</th>\n",
       "      <td>1</td>\n",
       "      <td>NaN</td>\n",
       "      <td>NaN</td>\n",
       "      <td>Our Deeds are the Reason of this #earthquake M...</td>\n",
       "      <td>1</td>\n",
       "    </tr>\n",
       "    <tr>\n",
       "      <th>1</th>\n",
       "      <td>4</td>\n",
       "      <td>NaN</td>\n",
       "      <td>NaN</td>\n",
       "      <td>Forest fire near La Ronge Sask. Canada</td>\n",
       "      <td>1</td>\n",
       "    </tr>\n",
       "    <tr>\n",
       "      <th>2</th>\n",
       "      <td>5</td>\n",
       "      <td>NaN</td>\n",
       "      <td>NaN</td>\n",
       "      <td>All residents asked to 'shelter in place' are ...</td>\n",
       "      <td>1</td>\n",
       "    </tr>\n",
       "    <tr>\n",
       "      <th>3</th>\n",
       "      <td>6</td>\n",
       "      <td>NaN</td>\n",
       "      <td>NaN</td>\n",
       "      <td>13,000 people receive #wildfires evacuation or...</td>\n",
       "      <td>1</td>\n",
       "    </tr>\n",
       "    <tr>\n",
       "      <th>4</th>\n",
       "      <td>7</td>\n",
       "      <td>NaN</td>\n",
       "      <td>NaN</td>\n",
       "      <td>Just got sent this photo from Ruby #Alaska as ...</td>\n",
       "      <td>1</td>\n",
       "    </tr>\n",
       "  </tbody>\n",
       "</table>\n",
       "</div>"
      ],
      "text/plain": [
       "   id keyword location                                               text  \\\n",
       "0   1     NaN      NaN  Our Deeds are the Reason of this #earthquake M...   \n",
       "1   4     NaN      NaN             Forest fire near La Ronge Sask. Canada   \n",
       "2   5     NaN      NaN  All residents asked to 'shelter in place' are ...   \n",
       "3   6     NaN      NaN  13,000 people receive #wildfires evacuation or...   \n",
       "4   7     NaN      NaN  Just got sent this photo from Ruby #Alaska as ...   \n",
       "\n",
       "   target  \n",
       "0       1  \n",
       "1       1  \n",
       "2       1  \n",
       "3       1  \n",
       "4       1  "
      ]
     },
     "execution_count": 4,
     "metadata": {},
     "output_type": "execute_result"
    }
   ],
   "source": [
    "train.head()"
   ]
  },
  {
   "cell_type": "markdown",
   "id": "7393be7b",
   "metadata": {
    "papermill": {
     "duration": 0.008473,
     "end_time": "2025-04-04T18:47:33.307857",
     "exception": false,
     "start_time": "2025-04-04T18:47:33.299384",
     "status": "completed"
    },
    "tags": []
   },
   "source": [
    "## NaN + Duplicated Values\n",
    "\n",
    "Great! Now let's take a look at the distribution of non-disaster and disaster-relevant tweets (we want an even distribution).\n",
    "\n",
    "Something to notice as well is that `keyword` and `location` are mostly blank, which we will have to take into account when we start our preprocessing journey\n",
    "\n",
    "We will look at the number of NaN and duplicated values, as with them, our model might run worse."
   ]
  },
  {
   "cell_type": "code",
   "execution_count": 5,
   "id": "a50c32e2",
   "metadata": {
    "execution": {
     "iopub.execute_input": "2025-04-04T18:47:33.326968Z",
     "iopub.status.busy": "2025-04-04T18:47:33.326679Z",
     "iopub.status.idle": "2025-04-04T18:47:33.518446Z",
     "shell.execute_reply": "2025-04-04T18:47:33.517544Z"
    },
    "papermill": {
     "duration": 0.202821,
     "end_time": "2025-04-04T18:47:33.519807",
     "exception": false,
     "start_time": "2025-04-04T18:47:33.316986",
     "status": "completed"
    },
    "tags": []
   },
   "outputs": [
    {
     "data": {
      "image/png": "[encoded data removed]",
      "text/plain": [
       "<Figure size 640x480 with 1 Axes>"
      ]
     },
     "metadata": {},
     "output_type": "display_data"
    }
   ],
   "source": [
    "target_counts = train['target'].value_counts()\n",
    "\n",
    "plt.bar(target_counts.index, target_counts.values)\n",
    "plt.xticks([0, 1])\n",
    "plt.xlabel('Disaster (no/yes)')\n",
    "plt.ylabel('Count')\n",
    "plt.title('Dist of Disaster Classes')\n",
    "plt.show()"
   ]
  },
  {
   "cell_type": "code",
   "execution_count": 6,
   "id": "1aa43a22",
   "metadata": {
    "execution": {
     "iopub.execute_input": "2025-04-04T18:47:33.539130Z",
     "iopub.status.busy": "2025-04-04T18:47:33.538892Z",
     "iopub.status.idle": "2025-04-04T18:47:33.737016Z",
     "shell.execute_reply": "2025-04-04T18:47:33.736222Z"
    },
    "papermill": {
     "duration": 0.209072,
     "end_time": "2025-04-04T18:47:33.738415",
     "exception": false,
     "start_time": "2025-04-04T18:47:33.529343",
     "status": "completed"
    },
    "tags": []
   },
   "outputs": [
    {
     "data": {
      "image/png": "[encoded data removed]",
      "text/plain": [
       "<Figure size 640x480 with 1 Axes>"
      ]
     },
     "metadata": {},
     "output_type": "display_data"
    }
   ],
   "source": [
    "def plot_double_bar(x: np.ndarray, first: np.ndarray, second: np.ndarray, w=0.4, title='', f_label='', s_label=''):\n",
    "    plt.bar(x - w/2, first, width=w, label=f_label)\n",
    "    plt.bar(x + w/2, second, width=w, label=s_label)\n",
    "    plt.xticks(x, train.columns, rotation=45)\n",
    "    plt.ylabel('Count')\n",
    "    plt.title(title)\n",
    "    plt.legend()\n",
    "    plt.tight_layout()\n",
    "    plt.show()\n",
    "\n",
    "\n",
    "null = train.isnull().sum()\n",
    "total = len(train)\n",
    "\n",
    "x = np.arange(len(train.columns))\n",
    "\n",
    "plot_double_bar(x, [total]*len(null), null.values, title='Total vs NaN vals', f_label='Total Rows', s_label='NaN Vals')"
   ]
  },
  {
   "cell_type": "code",
   "execution_count": 7,
   "id": "7ae7fa69",
   "metadata": {
    "execution": {
     "iopub.execute_input": "2025-04-04T18:47:33.758677Z",
     "iopub.status.busy": "2025-04-04T18:47:33.758418Z",
     "iopub.status.idle": "2025-04-04T18:47:33.960957Z",
     "shell.execute_reply": "2025-04-04T18:47:33.959963Z"
    },
    "papermill": {
     "duration": 0.214097,
     "end_time": "2025-04-04T18:47:33.962431",
     "exception": false,
     "start_time": "2025-04-04T18:47:33.748334",
     "status": "completed"
    },
    "tags": []
   },
   "outputs": [
    {
     "data": {
      "image/png": "[encoded data removed]",
      "text/plain": [
       "<Figure size 640x480 with 1 Axes>"
      ]
     },
     "metadata": {},
     "output_type": "display_data"
    }
   ],
   "source": [
    "duplicates = train[train.duplicated(subset=['text'], keep=False)].sort_values(by='text')\n",
    "non_duplicates = train.drop_duplicates(subset=['text'])\n",
    "\n",
    "x = np.arange(len(train.columns))\n",
    "\n",
    "plot_double_bar(x, [len(non_duplicates)] * len(train.columns), [len(duplicates)] * len(train.columns), title='Duplicates vs Non-Duplicates dataset', f_label='No Duplicates', s_label='Duplicates')\n"
   ]
  },
  {
   "cell_type": "markdown",
   "id": "b1618da2",
   "metadata": {
    "papermill": {
     "duration": 0.009691,
     "end_time": "2025-04-04T18:47:33.982655",
     "exception": false,
     "start_time": "2025-04-04T18:47:33.972964",
     "status": "completed"
    },
    "tags": []
   },
   "source": [
    "## Semantic Word Analysis\n",
    "\n",
    "We are going to take a look at the most common words in each category (disaster / non-disaster tweets). \n",
    "\n",
    "Since we will be pre-processing data to find the keyword, we don't need to worry about this too hard. However it doesn't hurt to see the most common words before we extract keywords and remove stop words.\n",
    "\n",
    "- Our outcome should be a bunch of random words (tweets have a small text box, so makes sense).\n",
    "- We also do not have that many duplicates so there shouldn't be much of a difference between the two word clouds"
   ]
  },
  {
   "cell_type": "code",
   "execution_count": 8,
   "id": "ce35543f",
   "metadata": {
    "execution": {
     "iopub.execute_input": "2025-04-04T18:47:34.003548Z",
     "iopub.status.busy": "2025-04-04T18:47:34.003247Z",
     "iopub.status.idle": "2025-04-04T18:47:35.469819Z",
     "shell.execute_reply": "2025-04-04T18:47:35.468864Z"
    },
    "papermill": {
     "duration": 1.482576,
     "end_time": "2025-04-04T18:47:35.475184",
     "exception": false,
     "start_time": "2025-04-04T18:47:33.992608",
     "status": "completed"
    },
    "tags": []
   },
   "outputs": [
    {
     "data": {
      "image/png": "[encoded data removed]",
      "text/plain": [
       "<Figure size 2000x1000 with 4 Axes>"
      ]
     },
     "metadata": {},
     "output_type": "display_data"
    }
   ],
   "source": [
    "before_removal = train.groupby('target')['text'].apply(lambda x: ' '.join(x))\n",
    "after_removal = non_duplicates.groupby('target')['text'].apply(lambda x: ' '.join(x))\n",
    "\n",
    "def plot_wordcloud(cat: str, txt: str, ax: plt.axes):\n",
    "    wordcloud = WordCloud(width=400, height=200, background_color='white', colormap='winter_r', max_words=10).generate(txt)\n",
    "    ax.imshow(wordcloud, interpolation='bilinear')\n",
    "    ax.set_title(f'Word cloud for {cat}', fontsize=16)\n",
    "    ax.axis('off')\n",
    "\n",
    "fig, axes = plt.subplots(1, len(before_removal)*2, figsize=(20, 10), sharex=True, sharey=True)\n",
    "\n",
    "names = {0: 'No Disaster', 1: 'Disaster'}\n",
    "\n",
    "for i, target in enumerate(before_removal.index):\n",
    "    plot_wordcloud(f'{names[target]} (with dupes)', before_removal[target], axes[i * 2])\n",
    "    plot_wordcloud(f'{names[target]} (no dupes)', after_removal[target], axes[i * 2 + 1])\n",
    "\n",
    "plt.tight_layout()\n",
    "plt.show()"
   ]
  },
  {
   "cell_type": "markdown",
   "id": "c48b67a4",
   "metadata": {
    "papermill": {
     "duration": 0.014144,
     "end_time": "2025-04-04T18:47:35.504598",
     "exception": false,
     "start_time": "2025-04-04T18:47:35.490454",
     "status": "completed"
    },
    "tags": []
   },
   "source": [
    "# Pre-Processing Data\n",
    "\n",
    "Now we can start to pre-process with the information gathered!\n",
    "- We have a lot of NaN values in our `keywords` and `location` categories, so we will need to predict the most important word\n",
    "    - Removing stopwords / stemming words if no hashtag\n",
    "    - TF-IDF ranking of words in our tweet body to get our keyword"
   ]
  },
  {
   "cell_type": "code",
   "execution_count": 9,
   "id": "8646118f",
   "metadata": {
    "execution": {
     "iopub.execute_input": "2025-04-04T18:47:35.535134Z",
     "iopub.status.busy": "2025-04-04T18:47:35.534805Z",
     "iopub.status.idle": "2025-04-04T18:47:35.540797Z",
     "shell.execute_reply": "2025-04-04T18:47:35.539940Z"
    },
    "papermill": {
     "duration": 0.024026,
     "end_time": "2025-04-04T18:47:35.542688",
     "exception": false,
     "start_time": "2025-04-04T18:47:35.518662",
     "status": "completed"
    },
    "tags": []
   },
   "outputs": [],
   "source": [
    "# get rid of duplicates\n",
    "pp_train = train.drop_duplicates(subset=['text'])"
   ]
  },
  {
   "cell_type": "markdown",
   "id": "d2240437",
   "metadata": {
    "papermill": {
     "duration": 0.012801,
     "end_time": "2025-04-04T18:47:35.568815",
     "exception": false,
     "start_time": "2025-04-04T18:47:35.556014",
     "status": "completed"
    },
    "tags": []
   },
   "source": [
    "## TF-IDF Ranking for Keywords / Location\n",
    "\n",
    "When we feed this dataset through our model, having keywords and locations will boost the accuracy (like with humans, when we are given earthquake and saskatoon we would know theres an earthquake in saskatoon)\n",
    "- The way I decided to preprocess was through **TF-IDF**, more specifically IDF, as it will elevate specific/rare words such as `explosion, earthquake` over simple words.\n",
    "    - We use `nlp` to tokenize our words, then **lemmatize** them (reduce to smallest form as long as its a letter and is not a stopword)\n",
    "    - We then feed this information into our **TF-IDF** vectorizer to calculate how relevant our word is to the other tweets (and how specific/rare the word is)\n",
    "        - When we look through our vectorizer, we check if it's a location (`nlp` will designate it as a `'GPE'`), if so we can add that to our location datatype."
   ]
  },
  {
   "cell_type": "code",
   "execution_count": 10,
   "id": "f85dde6b",
   "metadata": {
    "execution": {
     "iopub.execute_input": "2025-04-04T18:47:35.596507Z",
     "iopub.status.busy": "2025-04-04T18:47:35.596242Z",
     "iopub.status.idle": "2025-04-04T18:48:26.526829Z",
     "shell.execute_reply": "2025-04-04T18:48:26.525357Z"
    },
    "papermill": {
     "duration": 50.962147,
     "end_time": "2025-04-04T18:48:26.544099",
     "exception": false,
     "start_time": "2025-04-04T18:47:35.581952",
     "status": "completed"
    },
    "tags": []
   },
   "outputs": [
    {
     "name": "stderr",
     "output_type": "stream",
     "text": [
      "<ipython-input-10-f2c69f6bcfb9>:10: SettingWithCopyWarning: \n",
      "A value is trying to be set on a copy of a slice from a DataFrame.\n",
      "Try using .loc[row_indexer,col_indexer] = value instead\n",
      "\n",
      "See the caveats in the documentation: https://pandas.pydata.org/pandas-docs/stable/user_guide/indexing.html#returning-a-view-versus-a-copy\n",
      "  pp_train['processed_text'] = pp_train['text'].apply(preprocess)\n"
     ]
    },
    {
     "data": {
      "text/plain": [
       "0                    deed reason earthquake allah forgive\n",
       "1                   forest fire near la ronge sask canada\n",
       "2       resident ask shelter place notify officer evac...\n",
       "3       people receive wildfire evacuation order calif...\n",
       "4       get send photo ruby alaska smoke wildfire pour...\n",
       "                              ...                        \n",
       "7604    worldnew fall powerline g link tram update fir...\n",
       "7605           flip walmart bomb evacuate stay tuned blow\n",
       "7606    suicide bomber kill saudi security site mosque...\n",
       "7608         giant crane hold bridge collapse nearby home\n",
       "7612    late home raze northern california wildfire ab...\n",
       "Name: processed_text, Length: 7503, dtype: object"
      ]
     },
     "execution_count": 10,
     "metadata": {},
     "output_type": "execute_result"
    }
   ],
   "source": [
    "# Get TF-IDF ranking of words to fill in our `keyword` and `location` datapoints\n",
    "\n",
    "# Preprocess our text setup\n",
    "nlp = spacy.load('en_core_web_sm')\n",
    "\n",
    "def preprocess(txt):\n",
    "    doc = nlp(txt.lower())\n",
    "    return ' '.join([token.lemma_ for token in doc if token.is_alpha and not token.is_stop]) # remove stopwords and lemmatize them!\n",
    "\n",
    "pp_train['processed_text'] = pp_train['text'].apply(preprocess)\n",
    "\n",
    "pp_train['processed_text']"
   ]
  },
  {
   "cell_type": "markdown",
   "id": "5e0fec1e",
   "metadata": {
    "papermill": {
     "duration": 0.013904,
     "end_time": "2025-04-04T18:48:26.572862",
     "exception": false,
     "start_time": "2025-04-04T18:48:26.558958",
     "status": "completed"
    },
    "tags": []
   },
   "source": [
    "## TF-IDF Bias\n",
    "\n",
    "Before we get into the actual TF-IDF vectorization, we need to address the fact we currently have a **bias** towards disaster-related words. For example, TF-IDF might classify words like `ronge` as a *rare* word over `earthquake`. We should use some keywords used the most so we know (for example, our word cloud saw `fire` as a common word, but that only fits a specific use case).\n",
    "\n",
    "Creating a list of words would be tedious and lead to a lack of generalization, so I have opted to use [this website](https://relatedwords.io/disaster) (relatedwords.io) to grab words relevant to disasters/tragedies."
   ]
  },
  {
   "cell_type": "code",
   "execution_count": 11,
   "id": "0284fbdc",
   "metadata": {
    "execution": {
     "iopub.execute_input": "2025-04-04T18:48:26.601101Z",
     "iopub.status.busy": "2025-04-04T18:48:26.600815Z",
     "iopub.status.idle": "2025-04-04T18:48:37.049837Z",
     "shell.execute_reply": "2025-04-04T18:48:37.048830Z"
    },
    "papermill": {
     "duration": 10.464626,
     "end_time": "2025-04-04T18:48:37.051207",
     "exception": false,
     "start_time": "2025-04-04T18:48:26.586581",
     "status": "completed"
    },
    "tags": []
   },
   "outputs": [
    {
     "name": "stdout",
     "output_type": "stream",
     "text": [
      "['abb', 'abuse', 'abusive', 'accident', 'accuse', 'act', 'action', 'active', 'activity', 'adventure', 'adversity', 'advocate', 'affair', 'affect', 'afflict', 'affliction', 'afghanistan', 'aftermath', 'agency', 'agenda', 'aggravation', 'aggression', 'agile', 'ago', 'aiai', 'aid', 'ail', 'aim', 'algeria', 'alien', 'alir', 'allege', 'ally', 'amalthea', 'ambassador', 'annihilation', 'ano', 'ant', 'antagonism', 'anti']\n",
      "Size: 947\n"
     ]
    }
   ],
   "source": [
    "# get website\n",
    "\n",
    "def get_keywords(topic: str) -> List:\n",
    "    related_words = []\n",
    "    link = f'https://relatedwords.io/{topic}'\n",
    "\n",
    "    try:\n",
    "        response = requests.get(link, timeout=5)\n",
    "        response.raise_for_status()\n",
    "    except requests.Timeout:\n",
    "        print(f'Timeout Error: {e}')\n",
    "    except requests.RequestException as e:\n",
    "        print(f'Request failed: {e}')\n",
    "\n",
    "    # use soup to extract all words!\n",
    "    soup = BeautifulSoup(response.content, 'html.parser')\n",
    "\n",
    "    for a in soup.find_all('a'):\n",
    "        word = a.text.strip().lower()\n",
    "        if word.isalpha():\n",
    "            related_words.append(word)\n",
    "\n",
    "    return [preprocess(word) for word in related_words]\n",
    "\n",
    "\n",
    "topics = ['disaster', 'terrorism', 'war']\n",
    "keywords = []\n",
    "\n",
    "for topic in topics:\n",
    "    keywords.extend(get_keywords(topic))\n",
    "\n",
    "keywords = {word for word in keywords if word}\n",
    "\n",
    "print(sorted(list(keywords))[:40])\n",
    "print('Size:', len(keywords))"
   ]
  },
  {
   "cell_type": "code",
   "execution_count": 12,
   "id": "74e0e4b0",
   "metadata": {
    "execution": {
     "iopub.execute_input": "2025-04-04T18:48:37.079857Z",
     "iopub.status.busy": "2025-04-04T18:48:37.079592Z",
     "iopub.status.idle": "2025-04-04T18:49:12.386937Z",
     "shell.execute_reply": "2025-04-04T18:49:12.385918Z"
    },
    "papermill": {
     "duration": 35.338948,
     "end_time": "2025-04-04T18:49:12.404195",
     "exception": false,
     "start_time": "2025-04-04T18:48:37.065247",
     "status": "completed"
    },
    "tags": []
   },
   "outputs": [
    {
     "name": "stderr",
     "output_type": "stream",
     "text": [
      "<ipython-input-12-d9941ee69877>:27: SettingWithCopyWarning: \n",
      "A value is trying to be set on a copy of a slice from a DataFrame.\n",
      "Try using .loc[row_indexer,col_indexer] = value instead\n",
      "\n",
      "See the caveats in the documentation: https://pandas.pydata.org/pandas-docs/stable/user_guide/indexing.html#returning-a-view-versus-a-copy\n",
      "  pp_train['keyword'] = [get_key(pp_train['processed_text'], i) for i in range(len(pp_train))]\n",
      "<ipython-input-12-d9941ee69877>:28: SettingWithCopyWarning: \n",
      "A value is trying to be set on a copy of a slice from a DataFrame.\n",
      "Try using .loc[row_indexer,col_indexer] = value instead\n",
      "\n",
      "See the caveats in the documentation: https://pandas.pydata.org/pandas-docs/stable/user_guide/indexing.html#returning-a-view-versus-a-copy\n",
      "  pp_train['location'] = [get_key(pp_train['processed_text'], i, True) for i in range(len(pp_train))]\n"
     ]
    }
   ],
   "source": [
    "# TF-IDF\n",
    "vector = TfidfVectorizer()\n",
    "X = vector.fit_transform(pp_train['processed_text'])\n",
    "vocab = vector.get_feature_names_out()\n",
    "\n",
    "loc_words = set()\n",
    "docs = list(nlp.pipe([f'I am in {w}' for w in vocab]))\n",
    "for word, doc in zip(vocab, docs):\n",
    "    if any(ent.label_ == 'GPE' for ent in doc.ents):\n",
    "        loc_words.add(word)\n",
    "\n",
    "def get_key(text, r_idx, loc=False):\n",
    "    og_tokens = set(text.iloc[r_idx].split())\n",
    "    row = X[r_idx].toarray()[0]\n",
    "    sorted_idx = row.argsort()[::-1] # take largest\n",
    "    for idx in sorted_idx:\n",
    "        can = vocab[idx]\n",
    "        if not loc and can in keywords and can in og_tokens: # if we want keyword\n",
    "            return can\n",
    "        elif loc and can in loc_words and can in og_tokens: # if we want location\n",
    "            return can\n",
    "    return 'No Keyword'\n",
    "\n",
    "\n",
    "\n",
    "\n",
    "pp_train['keyword'] = [get_key(pp_train['processed_text'], i) for i in range(len(pp_train))]\n",
    "pp_train['location'] = [get_key(pp_train['processed_text'], i, True) for i in range(len(pp_train))]"
   ]
  },
  {
   "cell_type": "code",
   "execution_count": 13,
   "id": "10f34365",
   "metadata": {
    "execution": {
     "iopub.execute_input": "2025-04-04T18:49:12.432908Z",
     "iopub.status.busy": "2025-04-04T18:49:12.432636Z",
     "iopub.status.idle": "2025-04-04T18:49:12.444819Z",
     "shell.execute_reply": "2025-04-04T18:49:12.443947Z"
    },
    "papermill": {
     "duration": 0.027658,
     "end_time": "2025-04-04T18:49:12.446031",
     "exception": false,
     "start_time": "2025-04-04T18:49:12.418373",
     "status": "completed"
    },
    "tags": []
   },
   "outputs": [
    {
     "data": {
      "text/html": [
       "<div>\n",
       "<style scoped>\n",
       "    .dataframe tbody tr th:only-of-type {\n",
       "        vertical-align: middle;\n",
       "    }\n",
       "\n",
       "    .dataframe tbody tr th {\n",
       "        vertical-align: top;\n",
       "    }\n",
       "\n",
       "    .dataframe thead th {\n",
       "        text-align: right;\n",
       "    }\n",
       "</style>\n",
       "<table border=\"1\" class=\"dataframe\">\n",
       "  <thead>\n",
       "    <tr style=\"text-align: right;\">\n",
       "      <th></th>\n",
       "      <th>id</th>\n",
       "      <th>keyword</th>\n",
       "      <th>location</th>\n",
       "      <th>text</th>\n",
       "      <th>target</th>\n",
       "      <th>processed_text</th>\n",
       "    </tr>\n",
       "  </thead>\n",
       "  <tbody>\n",
       "    <tr>\n",
       "      <th>0</th>\n",
       "      <td>1</td>\n",
       "      <td>earthquake</td>\n",
       "      <td>No Keyword</td>\n",
       "      <td>Our Deeds are the Reason of this #earthquake M...</td>\n",
       "      <td>1</td>\n",
       "      <td>deed reason earthquake allah forgive</td>\n",
       "    </tr>\n",
       "    <tr>\n",
       "      <th>1</th>\n",
       "      <td>4</td>\n",
       "      <td>fire</td>\n",
       "      <td>canada</td>\n",
       "      <td>Forest fire near La Ronge Sask. Canada</td>\n",
       "      <td>1</td>\n",
       "      <td>forest fire near la ronge sask canada</td>\n",
       "    </tr>\n",
       "    <tr>\n",
       "      <th>2</th>\n",
       "      <td>5</td>\n",
       "      <td>evacuation</td>\n",
       "      <td>No Keyword</td>\n",
       "      <td>All residents asked to 'shelter in place' are ...</td>\n",
       "      <td>1</td>\n",
       "      <td>resident ask shelter place notify officer evac...</td>\n",
       "    </tr>\n",
       "    <tr>\n",
       "      <th>3</th>\n",
       "      <td>6</td>\n",
       "      <td>evacuation</td>\n",
       "      <td>california</td>\n",
       "      <td>13,000 people receive #wildfires evacuation or...</td>\n",
       "      <td>1</td>\n",
       "      <td>people receive wildfire evacuation order calif...</td>\n",
       "    </tr>\n",
       "    <tr>\n",
       "      <th>4</th>\n",
       "      <td>7</td>\n",
       "      <td>school</td>\n",
       "      <td>alaska</td>\n",
       "      <td>Just got sent this photo from Ruby #Alaska as ...</td>\n",
       "      <td>1</td>\n",
       "      <td>get send photo ruby alaska smoke wildfire pour...</td>\n",
       "    </tr>\n",
       "    <tr>\n",
       "      <th>...</th>\n",
       "      <td>...</td>\n",
       "      <td>...</td>\n",
       "      <td>...</td>\n",
       "      <td>...</td>\n",
       "      <td>...</td>\n",
       "      <td>...</td>\n",
       "    </tr>\n",
       "    <tr>\n",
       "      <th>7604</th>\n",
       "      <td>10863</td>\n",
       "      <td>link</td>\n",
       "      <td>No Keyword</td>\n",
       "      <td>#WorldNews Fallen powerlines on G:link tram: U...</td>\n",
       "      <td>1</td>\n",
       "      <td>worldnew fall powerline g link tram update fir...</td>\n",
       "    </tr>\n",
       "    <tr>\n",
       "      <th>7605</th>\n",
       "      <td>10864</td>\n",
       "      <td>bomb</td>\n",
       "      <td>No Keyword</td>\n",
       "      <td>on the flip side I'm at Walmart and there is a...</td>\n",
       "      <td>1</td>\n",
       "      <td>flip walmart bomb evacuate stay tuned blow</td>\n",
       "    </tr>\n",
       "    <tr>\n",
       "      <th>7606</th>\n",
       "      <td>10866</td>\n",
       "      <td>security</td>\n",
       "      <td>No Keyword</td>\n",
       "      <td>Suicide bomber kills 15 in Saudi security site...</td>\n",
       "      <td>1</td>\n",
       "      <td>suicide bomber kill saudi security site mosque...</td>\n",
       "    </tr>\n",
       "    <tr>\n",
       "      <th>7608</th>\n",
       "      <td>10869</td>\n",
       "      <td>collapse</td>\n",
       "      <td>No Keyword</td>\n",
       "      <td>Two giant cranes holding a bridge collapse int...</td>\n",
       "      <td>1</td>\n",
       "      <td>giant crane hold bridge collapse nearby home</td>\n",
       "    </tr>\n",
       "    <tr>\n",
       "      <th>7612</th>\n",
       "      <td>10873</td>\n",
       "      <td>wildfire</td>\n",
       "      <td>california</td>\n",
       "      <td>The Latest: More Homes Razed by Northern Calif...</td>\n",
       "      <td>1</td>\n",
       "      <td>late home raze northern california wildfire ab...</td>\n",
       "    </tr>\n",
       "  </tbody>\n",
       "</table>\n",
       "<p>7503 rows × 6 columns</p>\n",
       "</div>"
      ],
      "text/plain": [
       "         id     keyword    location  \\\n",
       "0         1  earthquake  No Keyword   \n",
       "1         4        fire      canada   \n",
       "2         5  evacuation  No Keyword   \n",
       "3         6  evacuation  california   \n",
       "4         7      school      alaska   \n",
       "...     ...         ...         ...   \n",
       "7604  10863        link  No Keyword   \n",
       "7605  10864        bomb  No Keyword   \n",
       "7606  10866    security  No Keyword   \n",
       "7608  10869    collapse  No Keyword   \n",
       "7612  10873    wildfire  california   \n",
       "\n",
       "                                                   text  target  \\\n",
       "0     Our Deeds are the Reason of this #earthquake M...       1   \n",
       "1                Forest fire near La Ronge Sask. Canada       1   \n",
       "2     All residents asked to 'shelter in place' are ...       1   \n",
       "3     13,000 people receive #wildfires evacuation or...       1   \n",
       "4     Just got sent this photo from Ruby #Alaska as ...       1   \n",
       "...                                                 ...     ...   \n",
       "7604  #WorldNews Fallen powerlines on G:link tram: U...       1   \n",
       "7605  on the flip side I'm at Walmart and there is a...       1   \n",
       "7606  Suicide bomber kills 15 in Saudi security site...       1   \n",
       "7608  Two giant cranes holding a bridge collapse int...       1   \n",
       "7612  The Latest: More Homes Razed by Northern Calif...       1   \n",
       "\n",
       "                                         processed_text  \n",
       "0                  deed reason earthquake allah forgive  \n",
       "1                 forest fire near la ronge sask canada  \n",
       "2     resident ask shelter place notify officer evac...  \n",
       "3     people receive wildfire evacuation order calif...  \n",
       "4     get send photo ruby alaska smoke wildfire pour...  \n",
       "...                                                 ...  \n",
       "7604  worldnew fall powerline g link tram update fir...  \n",
       "7605         flip walmart bomb evacuate stay tuned blow  \n",
       "7606  suicide bomber kill saudi security site mosque...  \n",
       "7608       giant crane hold bridge collapse nearby home  \n",
       "7612  late home raze northern california wildfire ab...  \n",
       "\n",
       "[7503 rows x 6 columns]"
      ]
     },
     "execution_count": 13,
     "metadata": {},
     "output_type": "execute_result"
    }
   ],
   "source": [
    "pp_train"
   ]
  },
  {
   "cell_type": "markdown",
   "id": "51935944",
   "metadata": {
    "papermill": {
     "duration": 0.013728,
     "end_time": "2025-04-04T18:49:12.474416",
     "exception": false,
     "start_time": "2025-04-04T18:49:12.460688",
     "status": "completed"
    },
    "tags": []
   },
   "source": [
    "# Model Training"
   ]
  },
  {
   "cell_type": "markdown",
   "id": "a71db1a1",
   "metadata": {
    "papermill": {
     "duration": 0.01367,
     "end_time": "2025-04-04T18:49:12.502379",
     "exception": false,
     "start_time": "2025-04-04T18:49:12.488709",
     "status": "completed"
    },
    "tags": []
   },
   "source": [
    "## Model #1: Logistic Regression & XGBoost\n",
    "\n",
    "Our benchmark model will be a simple logistic regression algorithm. Setting this model up should be relatively simple, other than encoding our data such that it fits linearly (only numbers, no text, in a 1D array).\n",
    "\n",
    "We will also use XGBoost, which works as an ensemble of decision trees (nonlinear). This should net in a higher accuracy as it will be better at learning complex patterns."
   ]
  },
  {
   "cell_type": "code",
   "execution_count": 14,
   "id": "40d5e776",
   "metadata": {
    "execution": {
     "iopub.execute_input": "2025-04-04T18:49:12.531736Z",
     "iopub.status.busy": "2025-04-04T18:49:12.531384Z",
     "iopub.status.idle": "2025-04-04T18:49:12.601656Z",
     "shell.execute_reply": "2025-04-04T18:49:12.600953Z"
    },
    "papermill": {
     "duration": 0.086518,
     "end_time": "2025-04-04T18:49:12.603011",
     "exception": false,
     "start_time": "2025-04-04T18:49:12.516493",
     "status": "completed"
    },
    "tags": []
   },
   "outputs": [],
   "source": [
    "# process data \n",
    "X = vector.transform(pp_train['processed_text']) # text -> tf-idf since we can't use text in log reg\n",
    "\n",
    "encoder = OneHotEncoder(handle_unknown='ignore')\n",
    "X_kw = encoder.fit_transform(pp_train[['keyword', 'location']])\n",
    "\n",
    "X_full = hstack([X, X_kw])"
   ]
  },
  {
   "cell_type": "code",
   "execution_count": 15,
   "id": "c4d2fd4a",
   "metadata": {
    "execution": {
     "iopub.execute_input": "2025-04-04T18:49:12.632395Z",
     "iopub.status.busy": "2025-04-04T18:49:12.632099Z",
     "iopub.status.idle": "2025-04-04T18:49:12.691055Z",
     "shell.execute_reply": "2025-04-04T18:49:12.690055Z"
    },
    "papermill": {
     "duration": 0.074965,
     "end_time": "2025-04-04T18:49:12.692396",
     "exception": false,
     "start_time": "2025-04-04T18:49:12.617431",
     "status": "completed"
    },
    "tags": []
   },
   "outputs": [
    {
     "name": "stdout",
     "output_type": "stream",
     "text": [
      "Train (70%): (5251, 12244)\n",
      "Test (15%): (1126, 12244)\n",
      "Val (15%): (1126, 12244)\n"
     ]
    }
   ],
   "source": [
    "# split data into train, test, val\n",
    "X_temp, X_test, y_temp, y_test = train_test_split(X_full, \n",
    "                                                    pp_train['target'], test_size=0.15,\n",
    "                                                    stratify=pp_train['target'])\n",
    "X_train, X_val, y_train, y_val = train_test_split(X_temp, y_temp, \n",
    "                                                  test_size=0.1765, stratify=y_temp)\n",
    "\n",
    "xgb_train = xgb.DMatrix(X_train, y_train, enable_categorical=True)\n",
    "xgb_test = xgb.DMatrix(X_test, y_test, enable_categorical=True)\n",
    "xgb_val = xgb.DMatrix(X_val, y_val, enable_categorical=True)\n",
    "\n",
    "print(f'Train (70%): {X_train.shape}')\n",
    "print(f'Test (15%): {X_test.shape}')\n",
    "print(f'Val (15%): {X_val.shape}')"
   ]
  },
  {
   "cell_type": "code",
   "execution_count": 16,
   "id": "c8f3af5f",
   "metadata": {
    "execution": {
     "iopub.execute_input": "2025-04-04T18:49:12.724191Z",
     "iopub.status.busy": "2025-04-04T18:49:12.723878Z",
     "iopub.status.idle": "2025-04-04T18:49:15.627016Z",
     "shell.execute_reply": "2025-04-04T18:49:15.626015Z"
    },
    "papermill": {
     "duration": 2.919484,
     "end_time": "2025-04-04T18:49:15.628557",
     "exception": false,
     "start_time": "2025-04-04T18:49:12.709073",
     "status": "completed"
    },
    "tags": []
   },
   "outputs": [
    {
     "name": "stdout",
     "output_type": "stream",
     "text": [
      "[0]\tval-logloss:0.63887\n",
      "[1]\tval-logloss:0.61543\n",
      "[2]\tval-logloss:0.59944\n",
      "[3]\tval-logloss:0.59028\n",
      "[4]\tval-logloss:0.58075\n",
      "[5]\tval-logloss:0.57628\n",
      "[6]\tval-logloss:0.56972\n",
      "[7]\tval-logloss:0.56488\n",
      "[8]\tval-logloss:0.56080\n",
      "[9]\tval-logloss:0.55631\n",
      "[10]\tval-logloss:0.55185\n",
      "[11]\tval-logloss:0.54856\n",
      "[12]\tval-logloss:0.54587\n",
      "[13]\tval-logloss:0.54240\n",
      "[14]\tval-logloss:0.53999\n",
      "[15]\tval-logloss:0.53683\n",
      "[16]\tval-logloss:0.53282\n",
      "[17]\tval-logloss:0.53194\n",
      "[18]\tval-logloss:0.52980\n",
      "[19]\tval-logloss:0.52835\n",
      "[20]\tval-logloss:0.52724\n",
      "[21]\tval-logloss:0.52503\n",
      "[22]\tval-logloss:0.52476\n",
      "[23]\tval-logloss:0.52211\n",
      "[24]\tval-logloss:0.52116\n",
      "[25]\tval-logloss:0.51925\n",
      "[26]\tval-logloss:0.51829\n",
      "[27]\tval-logloss:0.51805\n",
      "[28]\tval-logloss:0.51706\n",
      "[29]\tval-logloss:0.51677\n",
      "[30]\tval-logloss:0.51450\n",
      "[31]\tval-logloss:0.51234\n",
      "[32]\tval-logloss:0.51101\n",
      "[33]\tval-logloss:0.50897\n",
      "[34]\tval-logloss:0.50868\n",
      "[35]\tval-logloss:0.50899\n",
      "[36]\tval-logloss:0.50897\n",
      "[37]\tval-logloss:0.50690\n",
      "[38]\tval-logloss:0.50594\n",
      "[39]\tval-logloss:0.50551\n",
      "[40]\tval-logloss:0.50441\n",
      "[41]\tval-logloss:0.50480\n",
      "[42]\tval-logloss:0.50279\n",
      "[43]\tval-logloss:0.50204\n",
      "[44]\tval-logloss:0.50075\n",
      "[45]\tval-logloss:0.50080\n",
      "[46]\tval-logloss:0.49971\n",
      "[47]\tval-logloss:0.49916\n",
      "[48]\tval-logloss:0.49843\n",
      "[49]\tval-logloss:0.49866\n",
      "[50]\tval-logloss:0.49856\n",
      "[51]\tval-logloss:0.49757\n",
      "[52]\tval-logloss:0.49686\n",
      "[53]\tval-logloss:0.49786\n",
      "[54]\tval-logloss:0.49650\n",
      "[55]\tval-logloss:0.49709\n",
      "[56]\tval-logloss:0.49669\n",
      "[57]\tval-logloss:0.49661\n",
      "[58]\tval-logloss:0.49558\n",
      "[59]\tval-logloss:0.49507\n",
      "[60]\tval-logloss:0.49422\n",
      "[61]\tval-logloss:0.49405\n",
      "[62]\tval-logloss:0.49363\n",
      "[63]\tval-logloss:0.49291\n",
      "[64]\tval-logloss:0.49284\n",
      "[65]\tval-logloss:0.49267\n",
      "[66]\tval-logloss:0.49248\n",
      "[67]\tval-logloss:0.49280\n",
      "[68]\tval-logloss:0.49359\n",
      "[69]\tval-logloss:0.49317\n",
      "[70]\tval-logloss:0.49303\n",
      "[71]\tval-logloss:0.49356\n",
      "[72]\tval-logloss:0.49435\n",
      "[73]\tval-logloss:0.49356\n",
      "[74]\tval-logloss:0.49321\n",
      "[75]\tval-logloss:0.49331\n",
      "[76]\tval-logloss:0.49274\n",
      "[77]\tval-logloss:0.49277\n",
      "[78]\tval-logloss:0.49281\n",
      "[79]\tval-logloss:0.49202\n",
      "[80]\tval-logloss:0.49155\n",
      "[81]\tval-logloss:0.49152\n",
      "[82]\tval-logloss:0.49128\n",
      "[83]\tval-logloss:0.49203\n",
      "[84]\tval-logloss:0.49201\n",
      "[85]\tval-logloss:0.49056\n",
      "[86]\tval-logloss:0.48998\n",
      "[87]\tval-logloss:0.49047\n",
      "[88]\tval-logloss:0.49050\n",
      "[89]\tval-logloss:0.48956\n",
      "[90]\tval-logloss:0.48903\n",
      "[91]\tval-logloss:0.48840\n",
      "[92]\tval-logloss:0.48804\n",
      "[93]\tval-logloss:0.48791\n",
      "[94]\tval-logloss:0.48870\n",
      "[95]\tval-logloss:0.48816\n",
      "[96]\tval-logloss:0.48832\n",
      "[97]\tval-logloss:0.48832\n",
      "[98]\tval-logloss:0.48870\n",
      "[99]\tval-logloss:0.48850\n",
      "[100]\tval-logloss:0.48825\n",
      "[101]\tval-logloss:0.48834\n",
      "[102]\tval-logloss:0.48820\n",
      "[103]\tval-logloss:0.48795\n",
      "[104]\tval-logloss:0.48859\n",
      "[105]\tval-logloss:0.48890\n",
      "[106]\tval-logloss:0.48949\n",
      "[107]\tval-logloss:0.48869\n",
      "[108]\tval-logloss:0.48824\n",
      "[109]\tval-logloss:0.48829\n",
      "[110]\tval-logloss:0.48873\n",
      "[111]\tval-logloss:0.48857\n",
      "[112]\tval-logloss:0.48861\n",
      "[113]\tval-logloss:0.48944\n"
     ]
    }
   ],
   "source": [
    "# logistic regression\n",
    "lr_model = LogisticRegression(max_iter=1000)\n",
    "lr_model.fit(X_train, y_train)\n",
    "\n",
    "n = 1000\n",
    "params = {\n",
    "    'objective': 'binary:logistic',\n",
    "    'eval_metric': 'logloss',\n",
    "    'max_depth': 10,\n",
    "    'learning_rate': 0.3,\n",
    "    'booster': 'gbtree',\n",
    "    'verbosity': 1,\n",
    "}\n",
    "\n",
    "xg_model = xgb.train(params=params, dtrain=xgb_train, num_boost_round=n, early_stopping_rounds=20, evals=[(xgb_val, 'val')])"
   ]
  },
  {
   "cell_type": "code",
   "execution_count": 17,
   "id": "c08e0889",
   "metadata": {
    "_kg_hide-output": true,
    "execution": {
     "iopub.execute_input": "2025-04-04T18:49:15.670852Z",
     "iopub.status.busy": "2025-04-04T18:49:15.670536Z",
     "iopub.status.idle": "2025-04-04T18:49:15.690397Z",
     "shell.execute_reply": "2025-04-04T18:49:15.689286Z"
    },
    "papermill": {
     "duration": 0.040958,
     "end_time": "2025-04-04T18:49:15.691843",
     "exception": false,
     "start_time": "2025-04-04T18:49:15.650885",
     "status": "completed"
    },
    "tags": []
   },
   "outputs": [
    {
     "name": "stdout",
     "output_type": "stream",
     "text": [
      "Val Performance:\n",
      "               precision    recall  f1-score   support\n",
      "\n",
      "           0       0.77      0.88      0.82       646\n",
      "           1       0.80      0.65      0.72       480\n",
      "\n",
      "    accuracy                           0.78      1126\n",
      "   macro avg       0.78      0.76      0.77      1126\n",
      "weighted avg       0.78      0.78      0.78      1126\n",
      "\n",
      "Test Performance:\n",
      "               precision    recall  f1-score   support\n",
      "\n",
      "           0       0.79      0.87      0.83       646\n",
      "           1       0.80      0.70      0.74       480\n",
      "\n",
      "    accuracy                           0.80      1126\n",
      "   macro avg       0.80      0.78      0.79      1126\n",
      "weighted avg       0.80      0.80      0.79      1126\n",
      "\n"
     ]
    }
   ],
   "source": [
    "# log reg model\n",
    "y_val_pred = lr_model.predict(X_val)\n",
    "print('Val Performance:\\n', classification_report(y_val, y_val_pred))\n",
    "\n",
    "y_test_pred = lr_model.predict(X_test)\n",
    "print('Test Performance:\\n', classification_report(y_test, y_test_pred))"
   ]
  },
  {
   "cell_type": "code",
   "execution_count": 18,
   "id": "47acfc72",
   "metadata": {
    "execution": {
     "iopub.execute_input": "2025-04-04T18:49:15.730511Z",
     "iopub.status.busy": "2025-04-04T18:49:15.730227Z",
     "iopub.status.idle": "2025-04-04T18:49:15.758836Z",
     "shell.execute_reply": "2025-04-04T18:49:15.757765Z"
    },
    "papermill": {
     "duration": 0.049334,
     "end_time": "2025-04-04T18:49:15.760153",
     "exception": false,
     "start_time": "2025-04-04T18:49:15.710819",
     "status": "completed"
    },
    "tags": []
   },
   "outputs": [
    {
     "name": "stdout",
     "output_type": "stream",
     "text": [
      "Val Performance:\n",
      "               precision    recall  f1-score   support\n",
      "\n",
      "           0       0.77      0.87      0.82       646\n",
      "           1       0.79      0.66      0.72       480\n",
      "\n",
      "    accuracy                           0.78      1126\n",
      "   macro avg       0.78      0.76      0.77      1126\n",
      "weighted avg       0.78      0.78      0.77      1126\n",
      "\n",
      "Test Performance:\n",
      "               precision    recall  f1-score   support\n",
      "\n",
      "           0       0.78      0.85      0.81       646\n",
      "           1       0.77      0.68      0.72       480\n",
      "\n",
      "    accuracy                           0.78      1126\n",
      "   macro avg       0.77      0.76      0.77      1126\n",
      "weighted avg       0.77      0.78      0.77      1126\n",
      "\n"
     ]
    }
   ],
   "source": [
    "# xg model\n",
    "xgb_y_val_pred = (xg_model.predict(xgb_val) >= 0.5).astype(int)\n",
    "print('Val Performance:\\n', classification_report(y_val, xgb_y_val_pred))\n",
    "\n",
    "xgb_y_test_pred = (xg_model.predict(xgb_test) >= 0.5).astype(int)\n",
    "print('Test Performance:\\n', classification_report(y_test, xgb_y_test_pred))"
   ]
  },
  {
   "cell_type": "markdown",
   "id": "040d6898",
   "metadata": {
    "papermill": {
     "duration": 0.01931,
     "end_time": "2025-04-04T18:49:15.800248",
     "exception": false,
     "start_time": "2025-04-04T18:49:15.780938",
     "status": "completed"
    },
    "tags": []
   },
   "source": [
    "## Model #1 Overview\n",
    "\n",
    "As we can see, Linear Regression gives us an accuracy of **75-78%** for the test and validation sets. XGBoost gives us about **76-79%**.\n",
    "\n",
    "For the use case of predicting disasters, this isn't a terrible start, but also isn't sufficient. Since regression algorithms struggle with temporal and contextual relationships, we could move on to another model, such as an LSTM."
   ]
  },
  {
   "cell_type": "markdown",
   "id": "94da9380",
   "metadata": {
    "papermill": {
     "duration": 0.018609,
     "end_time": "2025-04-04T18:49:15.837941",
     "exception": false,
     "start_time": "2025-04-04T18:49:15.819332",
     "status": "completed"
    },
    "tags": []
   },
   "source": [
    "## Model #2: LSTM\n",
    "\n",
    "In essence, this is going to be a RNN that can learn when to remember and forget info over time (cell and hidden states).\n",
    "\n",
    "Since this will remember only the most important words, and remember the context behind them, it will become hopefully easier to extract important words and define whether there is a disaster or not.\n",
    "\n",
    "Our first step should be to **tokenize** our words and pad them so they are all equal length, then we need to **encode** our keyword and location words so the LSTM can read them."
   ]
  },
  {
   "cell_type": "code",
   "execution_count": 19,
   "id": "7c0552e9",
   "metadata": {
    "execution": {
     "iopub.execute_input": "2025-04-04T18:49:15.877013Z",
     "iopub.status.busy": "2025-04-04T18:49:15.876734Z",
     "iopub.status.idle": "2025-04-04T18:49:15.882100Z",
     "shell.execute_reply": "2025-04-04T18:49:15.881380Z"
    },
    "papermill": {
     "duration": 0.026463,
     "end_time": "2025-04-04T18:49:15.883353",
     "exception": false,
     "start_time": "2025-04-04T18:49:15.856890",
     "status": "completed"
    },
    "tags": []
   },
   "outputs": [],
   "source": [
    "# tokenized words\n",
    "def create_vocab(tokens):\n",
    "    every_token = [word for tweet in tokens for word in tweet]\n",
    "    word_counts = Counter(every_token)\n",
    "\n",
    "    vocab = {word: idx+2 for idx, (word, _) in enumerate(word_counts.items())}\n",
    "    vocab['<pad>'] = 0 # padding for same-length words\n",
    "    vocab['<unk>'] = 1 # unknown\n",
    "\n",
    "    return vocab\n",
    "\n",
    "def tokenize(tweets: pd.Series):\n",
    "    tokens = [text.split() for text in tweets]\n",
    "    vocab = create_vocab(tokens)\n",
    "    print(f'Vocabulary: {list(vocab.items())[:5]}')\n",
    "\n",
    "    encoded = [[vocab.get(word, vocab['<unk>']) for word in tweet] for tweet in tokens]\n",
    "\n",
    "    padded = pad_sequence([torch.tensor(seq) for seq in encoded], batch_first=True, padding_value=vocab['<pad>'])\n",
    "    return padded, len(vocab)"
   ]
  },
  {
   "cell_type": "code",
   "execution_count": 20,
   "id": "20509415",
   "metadata": {
    "execution": {
     "iopub.execute_input": "2025-04-04T18:49:15.922463Z",
     "iopub.status.busy": "2025-04-04T18:49:15.922190Z",
     "iopub.status.idle": "2025-04-04T18:49:15.927191Z",
     "shell.execute_reply": "2025-04-04T18:49:15.926582Z"
    },
    "papermill": {
     "duration": 0.026109,
     "end_time": "2025-04-04T18:49:15.928489",
     "exception": false,
     "start_time": "2025-04-04T18:49:15.902380",
     "status": "completed"
    },
    "tags": []
   },
   "outputs": [],
   "source": [
    "class DisasterTweetsDataset(Dataset):\n",
    "    def __init__(self, df):\n",
    "        self.df = df # preprocessed dataframe\n",
    "        self.text, self.vocab_size = tokenize(df['processed_text'])\n",
    "\n",
    "        kw_enc, lc_enc = LabelEncoder(), LabelEncoder()\n",
    "        self.keywords = kw_encoded = torch.tensor(kw_enc.fit_transform(self.df['keyword']))\n",
    "        self.locations = lc_encoded = torch.tensor(lc_enc.fit_transform(self.df['location']))\n",
    "\n",
    "        print(f'Keywords: {kw_encoded[:5]}, Locations: {lc_encoded[:5]}')\n",
    "                \n",
    "        self.labels = torch.tensor(df['target'].values, dtype=torch.float32)\n",
    "    def __len__(self):\n",
    "        return len(self.labels)\n",
    "\n",
    "    def __getitem__(self, idx):\n",
    "        return {\n",
    "            'text': self.text[idx],\n",
    "            'keyword': self.keywords[idx],\n",
    "            'location': self.locations[idx],\n",
    "        }, self.labels[idx]"
   ]
  },
  {
   "cell_type": "code",
   "execution_count": 21,
   "id": "76313560",
   "metadata": {
    "execution": {
     "iopub.execute_input": "2025-04-04T18:49:15.967160Z",
     "iopub.status.busy": "2025-04-04T18:49:15.966912Z",
     "iopub.status.idle": "2025-04-04T18:49:16.133779Z",
     "shell.execute_reply": "2025-04-04T18:49:16.132688Z"
    },
    "papermill": {
     "duration": 0.187907,
     "end_time": "2025-04-04T18:49:16.135141",
     "exception": false,
     "start_time": "2025-04-04T18:49:15.947234",
     "status": "completed"
    },
    "tags": []
   },
   "outputs": [
    {
     "name": "stdout",
     "output_type": "stream",
     "text": [
      "Vocabulary: [('deed', 2), ('reason', 3), ('earthquake', 4), ('allah', 5), ('forgive', 6)]\n",
      "Keywords: tensor([151, 185, 165, 165, 403]), Locations: tensor([ 0, 67,  0, 64, 10])\n"
     ]
    }
   ],
   "source": [
    "ds = DisasterTweetsDataset(pp_train)"
   ]
  },
  {
   "cell_type": "code",
   "execution_count": 22,
   "id": "c270adb4",
   "metadata": {
    "execution": {
     "iopub.execute_input": "2025-04-04T18:49:16.175442Z",
     "iopub.status.busy": "2025-04-04T18:49:16.175151Z",
     "iopub.status.idle": "2025-04-04T18:49:16.183569Z",
     "shell.execute_reply": "2025-04-04T18:49:16.182802Z"
    },
    "papermill": {
     "duration": 0.029873,
     "end_time": "2025-04-04T18:49:16.184813",
     "exception": false,
     "start_time": "2025-04-04T18:49:16.154940",
     "status": "completed"
    },
    "tags": []
   },
   "outputs": [
    {
     "name": "stdout",
     "output_type": "stream",
     "text": [
      "Train Size: 5252\n",
      "Val Size: 1125\n"
     ]
    }
   ],
   "source": [
    "# train, test, val indices\n",
    "train_size = int(0.7 * len(ds))\n",
    "val_size = int(0.15 * len(ds))\n",
    "test_size = len(ds) - train_size - val_size\n",
    "\n",
    "train_i, val_i, test_i = random_split(ds, [train_size, val_size, test_size])\n",
    "\n",
    "# batch processing\n",
    "train_dl = DataLoader(train_i, batch_size=32, shuffle=True)\n",
    "val_dl = DataLoader(val_i, batch_size=32)\n",
    "test_dl = DataLoader(test_i, batch_size=32)\n",
    "\n",
    "print(f'Train Size: {len(train_dl.dataset)}')\n",
    "print(f'Val Size: {len(val_dl.dataset)}')"
   ]
  },
  {
   "cell_type": "markdown",
   "id": "3c0f60d3",
   "metadata": {
    "papermill": {
     "duration": 0.018808,
     "end_time": "2025-04-04T18:49:16.222660",
     "exception": false,
     "start_time": "2025-04-04T18:49:16.203852",
     "status": "completed"
    },
    "tags": []
   },
   "source": [
    "Now that we have tokenized our model, and created the dataset, let's create our model. Our model will consist of:\n",
    "- Embedding layers to learn relationships behind our encoded words (tweets, keywords, locations)\n",
    "- An LSTM layer to learn temporal and contextual meanings behind each category\n",
    "- A linear and sigmoid layer to output our hidden dimension, or rather, whether we classify the tweet as a disaster tweet or not"
   ]
  },
  {
   "cell_type": "code",
   "execution_count": 23,
   "id": "947157c3",
   "metadata": {
    "execution": {
     "iopub.execute_input": "2025-04-04T18:49:16.306725Z",
     "iopub.status.busy": "2025-04-04T18:49:16.306404Z",
     "iopub.status.idle": "2025-04-04T18:49:16.312910Z",
     "shell.execute_reply": "2025-04-04T18:49:16.312197Z"
    },
    "papermill": {
     "duration": 0.02797,
     "end_time": "2025-04-04T18:49:16.314161",
     "exception": false,
     "start_time": "2025-04-04T18:49:16.286191",
     "status": "completed"
    },
    "tags": []
   },
   "outputs": [],
   "source": [
    "class DisasterModel(nn.Module):\n",
    "    def __init__(self, vocab_size: int, embed_dim: int, hidden_dim: int, kw_vocab_size: int, loc_vocab_size: int):\n",
    "        '''\n",
    "            Args:\n",
    "                vocab_size: # of tweets in our vocabulary\n",
    "                embed_dim: how much semantic vector space for each token gets to represent features\n",
    "                hidden_dim: how much memory the lstm has\n",
    "                kw_vocab_size: # of keywords in our vocabulary\n",
    "                loc_vocab_size: # of locations in our vocabulary\n",
    "        '''\n",
    "        super().__init__()\n",
    "        # embeddings\n",
    "        self.txt_embed = nn.Embedding(vocab_size, embed_dim)\n",
    "        self.kw_embed = nn.Embedding(kw_vocab_size, 8)\n",
    "        self.loc_embed = nn.Embedding(loc_vocab_size, 8)\n",
    "\n",
    "        # lstm + dropout, important for our tweet txt\n",
    "        self.lstm = nn.LSTM(embed_dim, hidden_dim, batch_first=True, bidirectional=True)\n",
    "        self.dropout = nn.Dropout(0.5)\n",
    "\n",
    "        # final layers for disaster / no disaster\n",
    "        self.fc = nn.Sequential(\n",
    "            nn.Linear(hidden_dim * 2 + 8 + 8, 1),\n",
    "            nn.Sigmoid()\n",
    "        )\n",
    "\n",
    "    def forward(self, txt, kw, loc):\n",
    "        # take tweet txt and feed it through our lstm\n",
    "        x = self.txt_embed(txt)\n",
    "        x, _ = self.lstm(x)\n",
    "        x = torch.max(x, dim=1).values # take most informative\n",
    "        x = self.dropout(x)\n",
    "\n",
    "        # take keyword and location and embed it\n",
    "        kw_vec = self.kw_embed(kw)\n",
    "        loc_vec = self.loc_embed(loc)\n",
    "\n",
    "        # combine all of them and pass them through our decision layers\n",
    "        combined = torch.cat([x, kw_vec, loc_vec], dim=1)\n",
    "        return self.fc(combined).squeeze(1)\n",
    "        \n",
    "        "
   ]
  },
  {
   "cell_type": "code",
   "execution_count": 24,
   "id": "be188cbd",
   "metadata": {
    "execution": {
     "iopub.execute_input": "2025-04-04T18:49:16.359461Z",
     "iopub.status.busy": "2025-04-04T18:49:16.359113Z",
     "iopub.status.idle": "2025-04-04T18:49:21.032055Z",
     "shell.execute_reply": "2025-04-04T18:49:21.031212Z"
    },
    "papermill": {
     "duration": 4.698581,
     "end_time": "2025-04-04T18:49:21.033482",
     "exception": false,
     "start_time": "2025-04-04T18:49:16.334901",
     "status": "completed"
    },
    "tags": []
   },
   "outputs": [
    {
     "data": {
      "text/plain": [
       "==========================================================================================\n",
       "Layer (type:depth-idx)                   Output Shape              Param #\n",
       "==========================================================================================\n",
       "DisasterModel                            [32]                      --\n",
       "├─Embedding: 1-1                         [32, 40, 64]              727,552\n",
       "├─LSTM: 1-2                              [32, 40, 64]              25,088\n",
       "├─Dropout: 1-3                           [32, 64]                  --\n",
       "├─Embedding: 1-4                         [32, 8]                   60,024\n",
       "├─Embedding: 1-5                         [32, 8]                   60,024\n",
       "├─Sequential: 1-6                        [32, 1]                   --\n",
       "│    └─Linear: 2-1                       [32, 1]                   81\n",
       "│    └─Sigmoid: 2-2                      [32, 1]                   --\n",
       "==========================================================================================\n",
       "Total params: 872,769\n",
       "Trainable params: 872,769\n",
       "Non-trainable params: 0\n",
       "Total mult-adds (M): 59.24\n",
       "==========================================================================================\n",
       "Input size (MB): 0.01\n",
       "Forward/backward pass size (MB): 1.32\n",
       "Params size (MB): 3.49\n",
       "Estimated Total Size (MB): 4.82\n",
       "=========================================================================================="
      ]
     },
     "execution_count": 24,
     "metadata": {},
     "output_type": "execute_result"
    }
   ],
   "source": [
    "lstm_model = DisasterModel(ds.vocab_size, 64, 32, len(ds.keywords), len(ds.locations)).to(device)\n",
    "\n",
    "optimizer = torch.optim.Adam(lstm_model.parameters(), lr=0.05)\n",
    "lr = torch.optim.lr_scheduler.ReduceLROnPlateau(optimizer, mode='min', factor=0.5, patience=5) # if lr doesn't change 5 epochs in, lower\n",
    "\n",
    "params = {\n",
    "    'epochs': 10,\n",
    "    'optimizer': optimizer,\n",
    "    'lr_scheduler': lr,\n",
    "    'weight_path': 'lstm_weights.pt',\n",
    "    'loss_fn': nn.BCELoss(),\n",
    "    'patience': 7, # early stopping!\n",
    "}\n",
    "\n",
    "summary(lstm_model, input_data=(\n",
    "    torch.randint(0, ds.vocab_size, (32, 40)).to(device), # 32 tweets, padded to 40 tokens\n",
    "    torch.randint(0, len(ds.keywords), (32,)).to(device), # 32 keywords\n",
    "    torch.randint(0, len(ds.locations), (32,)).to(device) # 32 locations\n",
    "    )\n",
    ")"
   ]
  },
  {
   "cell_type": "code",
   "execution_count": 25,
   "id": "c29d15ab",
   "metadata": {
    "execution": {
     "iopub.execute_input": "2025-04-04T18:49:21.075066Z",
     "iopub.status.busy": "2025-04-04T18:49:21.074513Z",
     "iopub.status.idle": "2025-04-04T18:49:21.081758Z",
     "shell.execute_reply": "2025-04-04T18:49:21.080929Z"
    },
    "papermill": {
     "duration": 0.02877,
     "end_time": "2025-04-04T18:49:21.083108",
     "exception": false,
     "start_time": "2025-04-04T18:49:21.054338",
     "status": "completed"
    },
    "tags": []
   },
   "outputs": [],
   "source": [
    "def train(model, dl, loss_fn, opt, device):\n",
    "    model.train()\n",
    "    total_loss = 0\n",
    "    \n",
    "    for batch, (X, y) in enumerate(dl):\n",
    "        # unpacking\n",
    "        txt = X['text'].to(device)\n",
    "        kw = X['keyword'].to(device)\n",
    "        loc = X['location'].to(device)\n",
    "        y = y.to(device).float()\n",
    "\n",
    "        # forward prop\n",
    "        output = model(txt, kw, loc)\n",
    "        loss = loss_fn(output, y)\n",
    "\n",
    "        # backprop\n",
    "        optimizer.zero_grad()\n",
    "        loss.backward()\n",
    "        optimizer.step()\n",
    "\n",
    "        total_loss += loss.item()\n",
    "\n",
    "    return total_loss / len(dl)\n",
    "        \n",
    "\n",
    "def val(model, dl, loss_fn, device):\n",
    "    model.eval()\n",
    "    total_loss = 0\n",
    "    all_preds, all_labels = [], []\n",
    "    \n",
    "    with torch.no_grad():\n",
    "        for X, y in dl:\n",
    "            # unpack\n",
    "            txt = X['text'].to(device)\n",
    "            kw = X['keyword'].to(device)\n",
    "            loc = X['location'].to(device)\n",
    "            y = y.to(device)\n",
    "\n",
    "            # forward prop\n",
    "            output = model(txt, kw, loc)\n",
    "            loss = loss_fn(output, y)\n",
    "            total_loss += loss.item()\n",
    "\n",
    "            # get predictions / labels for classification report\n",
    "            preds = (output >= 0.5).long().cpu()\n",
    "            all_preds.extend(preds)\n",
    "            all_labels.extend(y.cpu())\n",
    "\n",
    "    return total_loss / len(dl), f1_score(all_labels, all_preds)\n",
    "            "
   ]
  },
  {
   "cell_type": "code",
   "execution_count": 26,
   "id": "fffccdf3",
   "metadata": {
    "execution": {
     "iopub.execute_input": "2025-04-04T18:49:21.122747Z",
     "iopub.status.busy": "2025-04-04T18:49:21.122484Z",
     "iopub.status.idle": "2025-04-04T18:49:21.128172Z",
     "shell.execute_reply": "2025-04-04T18:49:21.127405Z"
    },
    "papermill": {
     "duration": 0.026867,
     "end_time": "2025-04-04T18:49:21.129507",
     "exception": false,
     "start_time": "2025-04-04T18:49:21.102640",
     "status": "completed"
    },
    "tags": []
   },
   "outputs": [],
   "source": [
    "def train_val(model, train_dl, val_dl, params):\n",
    "    best_val_loss = float('inf')\n",
    "    patience_counter = 0\n",
    "\n",
    "    loss_fn = params['loss_fn']\n",
    "    optimizer = params['optimizer']\n",
    "    patience = params['patience']\n",
    "    epochs = params['epochs']\n",
    "    lr_scheduler = params['lr_scheduler']\n",
    "\n",
    "    train_losses = []\n",
    "    val_losses = []\n",
    "    f1s = []\n",
    "\n",
    "    \n",
    "    for epoch in range(epochs):\n",
    "        train_loss = train(lstm_model, train_dl, loss_fn, optimizer, device)\n",
    "        val_loss, f1 = val(lstm_model, val_dl, loss_fn, device)\n",
    "\n",
    "        train_losses.append(train_loss)\n",
    "        val_losses.append(val_loss)\n",
    "        f1s.append(f1)\n",
    "        \n",
    "\n",
    "        print(f'Epoch: {epoch+1} | Train Loss: {train_loss:.4f} | Val Loss: {val_loss:.4} | Val F1: {f1:.4f}')\n",
    "\n",
    "        if val_loss < best_val_loss:\n",
    "            best_val_loss = val_loss\n",
    "            patience_counter = 0\n",
    "            torch.save(lstm_model.state_dict(), params['weight_path'])\n",
    "            print('New best model.')\n",
    "        else:\n",
    "            patience_counter += 1\n",
    "            if patience_counter >= patience:\n",
    "                print('Stopping early')\n",
    "                break\n",
    "        lr_scheduler.step(val_loss)\n",
    "\n",
    "    return train_losses, val_losses"
   ]
  },
  {
   "cell_type": "code",
   "execution_count": 27,
   "id": "c4fe4e3d",
   "metadata": {
    "execution": {
     "iopub.execute_input": "2025-04-04T18:49:21.169469Z",
     "iopub.status.busy": "2025-04-04T18:49:21.169156Z",
     "iopub.status.idle": "2025-04-04T18:49:26.657618Z",
     "shell.execute_reply": "2025-04-04T18:49:26.656632Z"
    },
    "papermill": {
     "duration": 5.510227,
     "end_time": "2025-04-04T18:49:26.658986",
     "exception": false,
     "start_time": "2025-04-04T18:49:21.148759",
     "status": "completed"
    },
    "tags": []
   },
   "outputs": [
    {
     "name": "stdout",
     "output_type": "stream",
     "text": [
      "Epoch: 1 | Train Loss: 0.6058 | Val Loss: 0.5191 | Val F1: 0.6390\n",
      "New best model.\n",
      "Epoch: 2 | Train Loss: 0.4358 | Val Loss: 0.5559 | Val F1: 0.6675\n",
      "Epoch: 3 | Train Loss: 0.3597 | Val Loss: 0.5891 | Val F1: 0.6931\n",
      "Epoch: 4 | Train Loss: 0.3135 | Val Loss: 0.5855 | Val F1: 0.7042\n",
      "Epoch: 5 | Train Loss: 0.2862 | Val Loss: 0.6211 | Val F1: 0.6928\n",
      "Epoch: 6 | Train Loss: 0.2682 | Val Loss: 0.7138 | Val F1: 0.7038\n",
      "Epoch: 7 | Train Loss: 0.2497 | Val Loss: 0.6901 | Val F1: 0.6703\n",
      "Epoch: 8 | Train Loss: 0.2004 | Val Loss: 0.7815 | Val F1: 0.6789\n",
      "Stopping early\n"
     ]
    }
   ],
   "source": [
    "train_loss_index, val_loss_index = train_val(lstm_model, train_dl, val_dl, params)"
   ]
  },
  {
   "cell_type": "code",
   "execution_count": 28,
   "id": "46aa0b41",
   "metadata": {
    "execution": {
     "iopub.execute_input": "2025-04-04T18:49:26.701630Z",
     "iopub.status.busy": "2025-04-04T18:49:26.701355Z",
     "iopub.status.idle": "2025-04-04T18:49:26.787941Z",
     "shell.execute_reply": "2025-04-04T18:49:26.786981Z"
    },
    "papermill": {
     "duration": 0.109762,
     "end_time": "2025-04-04T18:49:26.789407",
     "exception": false,
     "start_time": "2025-04-04T18:49:26.679645",
     "status": "completed"
    },
    "tags": []
   },
   "outputs": [
    {
     "name": "stdout",
     "output_type": "stream",
     "text": [
      "Test Loss: 0.7742173783481121\n",
      "              precision    recall  f1-score   support\n",
      "\n",
      "         0.0       0.79      0.76      0.78       660\n",
      "         1.0       0.68      0.71      0.70       466\n",
      "\n",
      "    accuracy                           0.74      1126\n",
      "   macro avg       0.73      0.74      0.74      1126\n",
      "weighted avg       0.74      0.74      0.74      1126\n",
      "\n"
     ]
    }
   ],
   "source": [
    "# testing\n",
    "lstm_model.eval()\n",
    "loss_func = params['loss_fn']\n",
    "\n",
    "labels = []\n",
    "all_preds = []\n",
    "total_loss = 0\n",
    "\n",
    "with torch.no_grad():\n",
    "    for X, y in test_dl:\n",
    "       # unpack\n",
    "        txt = X['text'].to(device)\n",
    "        kw = X['keyword'].to(device)\n",
    "        loc = X['location'].to(device)\n",
    "        y = y.to(device)\n",
    "\n",
    "        # forward prop\n",
    "        output = lstm_model(txt, kw, loc)\n",
    "        loss = loss_func(output, y)\n",
    "        total_loss += loss.item()\n",
    "\n",
    "        # get predictions / labels for classification report\n",
    "        preds = (output >= 0.5).long().cpu()\n",
    "        all_preds.extend(preds)\n",
    "        labels.extend(y.cpu())\n",
    "        \n",
    "print(f'Test Loss: {total_loss / len(test_dl)}\\n{classification_report(labels, all_preds)}')"
   ]
  },
  {
   "cell_type": "markdown",
   "id": "83e65c08",
   "metadata": {
    "papermill": {
     "duration": 0.019351,
     "end_time": "2025-04-04T18:49:26.829259",
     "exception": false,
     "start_time": "2025-04-04T18:49:26.809908",
     "status": "completed"
    },
    "tags": []
   },
   "source": [
    "## Model #2 Overview\n",
    "\n",
    "LSTM gives us a **77%** accuracy on our testing data, it does not do much better than our current best model, which is our Logistic Regression model. Why does this happen?\n",
    "- A reason could be the cleanliness of the dataset (after preprocessing) enabling the logistic regression to do just as well as our LSTM.\n",
    "- We also notice that our LSTM overfits quite early on, perhaps that is due to the small amount of data trained on our LSTM (only about 7000+ tweets).\n",
    "- Our model's ability to predict a disasterous tweet correctly has a much lower `f1-score` than non-disasterous tweets."
   ]
  },
  {
   "cell_type": "code",
   "execution_count": 29,
   "id": "0d82e2e9",
   "metadata": {
    "execution": {
     "iopub.execute_input": "2025-04-04T18:49:26.869551Z",
     "iopub.status.busy": "2025-04-04T18:49:26.869250Z",
     "iopub.status.idle": "2025-04-04T18:49:27.101706Z",
     "shell.execute_reply": "2025-04-04T18:49:27.100765Z"
    },
    "papermill": {
     "duration": 0.254062,
     "end_time": "2025-04-04T18:49:27.103039",
     "exception": false,
     "start_time": "2025-04-04T18:49:26.848977",
     "status": "completed"
    },
    "tags": []
   },
   "outputs": [
    {
     "data": {
      "image/png": "[encoded data removed]",
      "text/plain": [
       "<Figure size 640x480 with 1 Axes>"
      ]
     },
     "metadata": {},
     "output_type": "display_data"
    }
   ],
   "source": [
    "plt.plot(range(1, len(train_loss_index)+1), train_loss_index, label='Train Loss')\n",
    "plt.plot(range(1, len(val_loss_index)+1), val_loss_index, label='Validation Loss')\n",
    "plt.xlabel('Epoch')\n",
    "plt.ylabel('Loss')\n",
    "plt.title('Train vs Val Loss')\n",
    "plt.legend()\n",
    "plt.grid(True)"
   ]
  },
  {
   "cell_type": "markdown",
   "id": "895304d5",
   "metadata": {
    "papermill": {
     "duration": 0.020992,
     "end_time": "2025-04-04T18:49:27.145352",
     "exception": false,
     "start_time": "2025-04-04T18:49:27.124360",
     "status": "completed"
    },
    "tags": []
   },
   "source": [
    "## Model #3: DistilBERT\n",
    "\n",
    "Our model could benefit from a pretrained model rather than an LSTM learning from scratch, such as DistilBERT.\n",
    "\n",
    "BERT will tokenize our words for us, so we do not need to feed it preprocessed data, rather the 3 categories we obtained (`text`, `keyword`, `location`).\n",
    "\n",
    "Since this dataset is small, we learnt the model will overfit early, so early stopping is crucial here."
   ]
  },
  {
   "cell_type": "code",
   "execution_count": 30,
   "id": "90487f8f",
   "metadata": {
    "execution": {
     "iopub.execute_input": "2025-04-04T18:49:27.188756Z",
     "iopub.status.busy": "2025-04-04T18:49:27.188395Z",
     "iopub.status.idle": "2025-04-04T18:49:36.021988Z",
     "shell.execute_reply": "2025-04-04T18:49:36.021333Z"
    },
    "papermill": {
     "duration": 8.856726,
     "end_time": "2025-04-04T18:49:36.023150",
     "exception": false,
     "start_time": "2025-04-04T18:49:27.166424",
     "status": "completed"
    },
    "tags": []
   },
   "outputs": [
    {
     "data": {
      "text/html": [
       "<pre style=\"white-space:pre;overflow-x:auto;line-height:normal;font-family:Menlo,'DejaVu Sans Mono',consolas,'Courier New',monospace\"><span style=\"font-weight: bold\">Preprocessor: \"distil_bert_text_classifier_preprocessor\"</span>\n",
       "</pre>\n"
      ],
      "text/plain": [
       "\u001b[1mPreprocessor: \"distil_bert_text_classifier_preprocessor\"\u001b[0m\n"
      ]
     },
     "metadata": {},
     "output_type": "display_data"
    },
    {
     "data": {
      "text/html": [
       "<pre style=\"white-space:pre;overflow-x:auto;line-height:normal;font-family:Menlo,'DejaVu Sans Mono',consolas,'Courier New',monospace\">┏━━━━━━━━━━━━━━━━━━━━━━━━━━━━━━━━━━━━━━━━━━━━━━━━━━━━━━━━━━━━━━━┳━━━━━━━━━━━━━━━━━━━━━━━━━━━━━━━━━━━━━━━━━━┓\n",
       "┃<span style=\"font-weight: bold\"> Layer (type)                                                  </span>┃<span style=\"font-weight: bold\">                                   Config </span>┃\n",
       "┡━━━━━━━━━━━━━━━━━━━━━━━━━━━━━━━━━━━━━━━━━━━━━━━━━━━━━━━━━━━━━━━╇━━━━━━━━━━━━━━━━━━━━━━━━━━━━━━━━━━━━━━━━━━┩\n",
       "│ distil_bert_tokenizer (<span style=\"color: #0087ff; text-decoration-color: #0087ff\">DistilBertTokenizer</span>)                   │                       Vocab size: <span style=\"color: #00af00; text-decoration-color: #00af00\">30,522</span> │\n",
       "└───────────────────────────────────────────────────────────────┴──────────────────────────────────────────┘\n",
       "</pre>\n"
      ],
      "text/plain": [
       "┏━━━━━━━━━━━━━━━━━━━━━━━━━━━━━━━━━━━━━━━━━━━━━━━━━━━━━━━━━━━━━━━┳━━━━━━━━━━━━━━━━━━━━━━━━━━━━━━━━━━━━━━━━━━┓\n",
       "┃\u001b[1m \u001b[0m\u001b[1mLayer (type)                                                 \u001b[0m\u001b[1m \u001b[0m┃\u001b[1m \u001b[0m\u001b[1m                                  Config\u001b[0m\u001b[1m \u001b[0m┃\n",
       "┡━━━━━━━━━━━━━━━━━━━━━━━━━━━━━━━━━━━━━━━━━━━━━━━━━━━━━━━━━━━━━━━╇━━━━━━━━━━━━━━━━━━━━━━━━━━━━━━━━━━━━━━━━━━┩\n",
       "│ distil_bert_tokenizer (\u001b[38;5;33mDistilBertTokenizer\u001b[0m)                   │                       Vocab size: \u001b[38;5;34m30,522\u001b[0m │\n",
       "└───────────────────────────────────────────────────────────────┴──────────────────────────────────────────┘\n"
      ]
     },
     "metadata": {},
     "output_type": "display_data"
    },
    {
     "data": {
      "text/html": [
       "<pre style=\"white-space:pre;overflow-x:auto;line-height:normal;font-family:Menlo,'DejaVu Sans Mono',consolas,'Courier New',monospace\"><span style=\"font-weight: bold\">Model: \"distil_bert_text_classifier\"</span>\n",
       "</pre>\n"
      ],
      "text/plain": [
       "\u001b[1mModel: \"distil_bert_text_classifier\"\u001b[0m\n"
      ]
     },
     "metadata": {},
     "output_type": "display_data"
    },
    {
     "data": {
      "text/html": [
       "<pre style=\"white-space:pre;overflow-x:auto;line-height:normal;font-family:Menlo,'DejaVu Sans Mono',consolas,'Courier New',monospace\">┏━━━━━━━━━━━━━━━━━━━━━━━━━━━━━━━┳━━━━━━━━━━━━━━━━━━━━━━━━━━━┳━━━━━━━━━━━━━━━━━┳━━━━━━━━━━━━━━━━━━━━━━━━━━━━┓\n",
       "┃<span style=\"font-weight: bold\"> Layer (type)                  </span>┃<span style=\"font-weight: bold\"> Output Shape              </span>┃<span style=\"font-weight: bold\">         Param # </span>┃<span style=\"font-weight: bold\"> Connected to               </span>┃\n",
       "┡━━━━━━━━━━━━━━━━━━━━━━━━━━━━━━━╇━━━━━━━━━━━━━━━━━━━━━━━━━━━╇━━━━━━━━━━━━━━━━━╇━━━━━━━━━━━━━━━━━━━━━━━━━━━━┩\n",
       "│ padding_mask (<span style=\"color: #0087ff; text-decoration-color: #0087ff\">InputLayer</span>)     │ (<span style=\"color: #00d7ff; text-decoration-color: #00d7ff\">None</span>, <span style=\"color: #00d7ff; text-decoration-color: #00d7ff\">None</span>)              │               <span style=\"color: #00af00; text-decoration-color: #00af00\">0</span> │ -                          │\n",
       "├───────────────────────────────┼───────────────────────────┼─────────────────┼────────────────────────────┤\n",
       "│ token_ids (<span style=\"color: #0087ff; text-decoration-color: #0087ff\">InputLayer</span>)        │ (<span style=\"color: #00d7ff; text-decoration-color: #00d7ff\">None</span>, <span style=\"color: #00d7ff; text-decoration-color: #00d7ff\">None</span>)              │               <span style=\"color: #00af00; text-decoration-color: #00af00\">0</span> │ -                          │\n",
       "├───────────────────────────────┼───────────────────────────┼─────────────────┼────────────────────────────┤\n",
       "│ distil_bert_backbone          │ (<span style=\"color: #00d7ff; text-decoration-color: #00d7ff\">None</span>, <span style=\"color: #00d7ff; text-decoration-color: #00d7ff\">None</span>, <span style=\"color: #00af00; text-decoration-color: #00af00\">768</span>)         │      <span style=\"color: #00af00; text-decoration-color: #00af00\">66,362,880</span> │ padding_mask[<span style=\"color: #00af00; text-decoration-color: #00af00\">0</span>][<span style=\"color: #00af00; text-decoration-color: #00af00\">0</span>],        │\n",
       "│ (<span style=\"color: #0087ff; text-decoration-color: #0087ff\">DistilBertBackbone</span>)          │                           │                 │ token_ids[<span style=\"color: #00af00; text-decoration-color: #00af00\">0</span>][<span style=\"color: #00af00; text-decoration-color: #00af00\">0</span>]            │\n",
       "├───────────────────────────────┼───────────────────────────┼─────────────────┼────────────────────────────┤\n",
       "│ get_item (<span style=\"color: #0087ff; text-decoration-color: #0087ff\">GetItem</span>)            │ (<span style=\"color: #00d7ff; text-decoration-color: #00d7ff\">None</span>, <span style=\"color: #00af00; text-decoration-color: #00af00\">768</span>)               │               <span style=\"color: #00af00; text-decoration-color: #00af00\">0</span> │ distil_bert_backbone[<span style=\"color: #00af00; text-decoration-color: #00af00\">0</span>][<span style=\"color: #00af00; text-decoration-color: #00af00\">0</span>] │\n",
       "├───────────────────────────────┼───────────────────────────┼─────────────────┼────────────────────────────┤\n",
       "│ pooled_dense (<span style=\"color: #0087ff; text-decoration-color: #0087ff\">Dense</span>)          │ (<span style=\"color: #00d7ff; text-decoration-color: #00d7ff\">None</span>, <span style=\"color: #00af00; text-decoration-color: #00af00\">768</span>)               │         <span style=\"color: #00af00; text-decoration-color: #00af00\">590,592</span> │ get_item[<span style=\"color: #00af00; text-decoration-color: #00af00\">0</span>][<span style=\"color: #00af00; text-decoration-color: #00af00\">0</span>]             │\n",
       "├───────────────────────────────┼───────────────────────────┼─────────────────┼────────────────────────────┤\n",
       "│ output_dropout (<span style=\"color: #0087ff; text-decoration-color: #0087ff\">Dropout</span>)      │ (<span style=\"color: #00d7ff; text-decoration-color: #00d7ff\">None</span>, <span style=\"color: #00af00; text-decoration-color: #00af00\">768</span>)               │               <span style=\"color: #00af00; text-decoration-color: #00af00\">0</span> │ pooled_dense[<span style=\"color: #00af00; text-decoration-color: #00af00\">0</span>][<span style=\"color: #00af00; text-decoration-color: #00af00\">0</span>]         │\n",
       "├───────────────────────────────┼───────────────────────────┼─────────────────┼────────────────────────────┤\n",
       "│ logits (<span style=\"color: #0087ff; text-decoration-color: #0087ff\">Dense</span>)                │ (<span style=\"color: #00d7ff; text-decoration-color: #00d7ff\">None</span>, <span style=\"color: #00af00; text-decoration-color: #00af00\">1</span>)                 │             <span style=\"color: #00af00; text-decoration-color: #00af00\">769</span> │ output_dropout[<span style=\"color: #00af00; text-decoration-color: #00af00\">0</span>][<span style=\"color: #00af00; text-decoration-color: #00af00\">0</span>]       │\n",
       "└───────────────────────────────┴───────────────────────────┴─────────────────┴────────────────────────────┘\n",
       "</pre>\n"
      ],
      "text/plain": [
       "┏━━━━━━━━━━━━━━━━━━━━━━━━━━━━━━━┳━━━━━━━━━━━━━━━━━━━━━━━━━━━┳━━━━━━━━━━━━━━━━━┳━━━━━━━━━━━━━━━━━━━━━━━━━━━━┓\n",
       "┃\u001b[1m \u001b[0m\u001b[1mLayer (type)                 \u001b[0m\u001b[1m \u001b[0m┃\u001b[1m \u001b[0m\u001b[1mOutput Shape             \u001b[0m\u001b[1m \u001b[0m┃\u001b[1m \u001b[0m\u001b[1m        Param #\u001b[0m\u001b[1m \u001b[0m┃\u001b[1m \u001b[0m\u001b[1mConnected to              \u001b[0m\u001b[1m \u001b[0m┃\n",
       "┡━━━━━━━━━━━━━━━━━━━━━━━━━━━━━━━╇━━━━━━━━━━━━━━━━━━━━━━━━━━━╇━━━━━━━━━━━━━━━━━╇━━━━━━━━━━━━━━━━━━━━━━━━━━━━┩\n",
       "│ padding_mask (\u001b[38;5;33mInputLayer\u001b[0m)     │ (\u001b[38;5;45mNone\u001b[0m, \u001b[38;5;45mNone\u001b[0m)              │               \u001b[38;5;34m0\u001b[0m │ -                          │\n",
       "├───────────────────────────────┼───────────────────────────┼─────────────────┼────────────────────────────┤\n",
       "│ token_ids (\u001b[38;5;33mInputLayer\u001b[0m)        │ (\u001b[38;5;45mNone\u001b[0m, \u001b[38;5;45mNone\u001b[0m)              │               \u001b[38;5;34m0\u001b[0m │ -                          │\n",
       "├───────────────────────────────┼───────────────────────────┼─────────────────┼────────────────────────────┤\n",
       "│ distil_bert_backbone          │ (\u001b[38;5;45mNone\u001b[0m, \u001b[38;5;45mNone\u001b[0m, \u001b[38;5;34m768\u001b[0m)         │      \u001b[38;5;34m66,362,880\u001b[0m │ padding_mask[\u001b[38;5;34m0\u001b[0m][\u001b[38;5;34m0\u001b[0m],        │\n",
       "│ (\u001b[38;5;33mDistilBertBackbone\u001b[0m)          │                           │                 │ token_ids[\u001b[38;5;34m0\u001b[0m][\u001b[38;5;34m0\u001b[0m]            │\n",
       "├───────────────────────────────┼───────────────────────────┼─────────────────┼────────────────────────────┤\n",
       "│ get_item (\u001b[38;5;33mGetItem\u001b[0m)            │ (\u001b[38;5;45mNone\u001b[0m, \u001b[38;5;34m768\u001b[0m)               │               \u001b[38;5;34m0\u001b[0m │ distil_bert_backbone[\u001b[38;5;34m0\u001b[0m][\u001b[38;5;34m0\u001b[0m] │\n",
       "├───────────────────────────────┼───────────────────────────┼─────────────────┼────────────────────────────┤\n",
       "│ pooled_dense (\u001b[38;5;33mDense\u001b[0m)          │ (\u001b[38;5;45mNone\u001b[0m, \u001b[38;5;34m768\u001b[0m)               │         \u001b[38;5;34m590,592\u001b[0m │ get_item[\u001b[38;5;34m0\u001b[0m][\u001b[38;5;34m0\u001b[0m]             │\n",
       "├───────────────────────────────┼───────────────────────────┼─────────────────┼────────────────────────────┤\n",
       "│ output_dropout (\u001b[38;5;33mDropout\u001b[0m)      │ (\u001b[38;5;45mNone\u001b[0m, \u001b[38;5;34m768\u001b[0m)               │               \u001b[38;5;34m0\u001b[0m │ pooled_dense[\u001b[38;5;34m0\u001b[0m][\u001b[38;5;34m0\u001b[0m]         │\n",
       "├───────────────────────────────┼───────────────────────────┼─────────────────┼────────────────────────────┤\n",
       "│ logits (\u001b[38;5;33mDense\u001b[0m)                │ (\u001b[38;5;45mNone\u001b[0m, \u001b[38;5;34m1\u001b[0m)                 │             \u001b[38;5;34m769\u001b[0m │ output_dropout[\u001b[38;5;34m0\u001b[0m][\u001b[38;5;34m0\u001b[0m]       │\n",
       "└───────────────────────────────┴───────────────────────────┴─────────────────┴────────────────────────────┘\n"
      ]
     },
     "metadata": {},
     "output_type": "display_data"
    },
    {
     "data": {
      "text/html": [
       "<pre style=\"white-space:pre;overflow-x:auto;line-height:normal;font-family:Menlo,'DejaVu Sans Mono',consolas,'Courier New',monospace\"><span style=\"font-weight: bold\"> Total params: </span><span style=\"color: #00af00; text-decoration-color: #00af00\">66,954,241</span> (255.41 MB)\n",
       "</pre>\n"
      ],
      "text/plain": [
       "\u001b[1m Total params: \u001b[0m\u001b[38;5;34m66,954,241\u001b[0m (255.41 MB)\n"
      ]
     },
     "metadata": {},
     "output_type": "display_data"
    },
    {
     "data": {
      "text/html": [
       "<pre style=\"white-space:pre;overflow-x:auto;line-height:normal;font-family:Menlo,'DejaVu Sans Mono',consolas,'Courier New',monospace\"><span style=\"font-weight: bold\"> Trainable params: </span><span style=\"color: #00af00; text-decoration-color: #00af00\">66,954,241</span> (255.41 MB)\n",
       "</pre>\n"
      ],
      "text/plain": [
       "\u001b[1m Trainable params: \u001b[0m\u001b[38;5;34m66,954,241\u001b[0m (255.41 MB)\n"
      ]
     },
     "metadata": {},
     "output_type": "display_data"
    },
    {
     "data": {
      "text/html": [
       "<pre style=\"white-space:pre;overflow-x:auto;line-height:normal;font-family:Menlo,'DejaVu Sans Mono',consolas,'Courier New',monospace\"><span style=\"font-weight: bold\"> Non-trainable params: </span><span style=\"color: #00af00; text-decoration-color: #00af00\">0</span> (0.00 B)\n",
       "</pre>\n"
      ],
      "text/plain": [
       "\u001b[1m Non-trainable params: \u001b[0m\u001b[38;5;34m0\u001b[0m (0.00 B)\n"
      ]
     },
     "metadata": {},
     "output_type": "display_data"
    }
   ],
   "source": [
    "preprocessor = keras_hub.models.DistilBertPreprocessor.from_preset('distil_bert_base_en_uncased', \n",
    "                                                                   sequence_length=128)\n",
    "\n",
    "classifier = keras_hub.models.DistilBertClassifier.from_preset('distil_bert_base_en_uncased', \n",
    "                                                               num_classes=1,\n",
    "                                                               preprocessor=preprocessor)\n",
    "\n",
    "classifier.compile(loss=keras.losses.BinaryCrossentropy(from_logits=True), optimizer=keras.optimizers.Adam(learning_rate=1e-5), metrics=['accuracy'])\n",
    "\n",
    "classifier.summary()"
   ]
  },
  {
   "cell_type": "markdown",
   "id": "296ffbf4",
   "metadata": {
    "papermill": {
     "duration": 0.021664,
     "end_time": "2025-04-04T18:49:36.067218",
     "exception": false,
     "start_time": "2025-04-04T18:49:36.045554",
     "status": "completed"
    },
    "tags": []
   },
   "source": [
    "Since DistilBERT will do the tokenization for us, we just need to feed it the raw text, keywords, and locations."
   ]
  },
  {
   "cell_type": "code",
   "execution_count": 31,
   "id": "088749f1",
   "metadata": {
    "execution": {
     "iopub.execute_input": "2025-04-04T18:49:36.111911Z",
     "iopub.status.busy": "2025-04-04T18:49:36.111616Z",
     "iopub.status.idle": "2025-04-04T18:52:42.331649Z",
     "shell.execute_reply": "2025-04-04T18:52:42.330869Z"
    },
    "papermill": {
     "duration": 186.244045,
     "end_time": "2025-04-04T18:52:42.333258",
     "exception": false,
     "start_time": "2025-04-04T18:49:36.089213",
     "status": "completed"
    },
    "tags": []
   },
   "outputs": [
    {
     "name": "stdout",
     "output_type": "stream",
     "text": [
      "Epoch 1/10\n",
      "\u001b[1m165/165\u001b[0m \u001b[32m━━━━━━━━━━━━━━━━━━━━\u001b[0m\u001b[37m\u001b[0m \u001b[1m90s\u001b[0m 339ms/step - accuracy: 0.6475 - loss: 0.5904 - val_accuracy: 0.8321 - val_loss: 0.3993\n",
      "Epoch 2/10\n",
      "\u001b[1m165/165\u001b[0m \u001b[32m━━━━━━━━━━━━━━━━━━━━\u001b[0m\u001b[37m\u001b[0m \u001b[1m32s\u001b[0m 192ms/step - accuracy: 0.8281 - loss: 0.4137 - val_accuracy: 0.8464 - val_loss: 0.3831\n",
      "Epoch 3/10\n",
      "\u001b[1m165/165\u001b[0m \u001b[32m━━━━━━━━━━━━━━━━━━━━\u001b[0m\u001b[37m\u001b[0m \u001b[1m32s\u001b[0m 191ms/step - accuracy: 0.8582 - loss: 0.3585 - val_accuracy: 0.8446 - val_loss: 0.3954\n",
      "Epoch 4/10\n",
      "\u001b[1m165/165\u001b[0m \u001b[32m━━━━━━━━━━━━━━━━━━━━\u001b[0m\u001b[37m\u001b[0m \u001b[1m32s\u001b[0m 191ms/step - accuracy: 0.8791 - loss: 0.3193 - val_accuracy: 0.8481 - val_loss: 0.3954\n"
     ]
    }
   ],
   "source": [
    "combined_text = ('keyword: ' + pp_train['keyword'] + \n",
    "                 ' location: ' + pp_train['location'] + \n",
    "                 ' text: ' + pp_train['text'])\n",
    "\n",
    "# resplit data, this time with our combined text\n",
    "X_temp, X_test, y_temp, y_test = train_test_split(combined_text, pp_train['target'], test_size=0.15, stratify=pp_train['target'])\n",
    "X_train, X_val, y_train, y_val = train_test_split(X_temp, y_temp, test_size=0.1765, stratify=y_temp)\n",
    "\n",
    "early_stop = EarlyStopping(\n",
    "    monitor='val_loss',\n",
    "    patience=2,\n",
    "    restore_best_weights=True\n",
    ")\n",
    "\n",
    "history = classifier.fit(x=X_train.tolist(), y=y_train.astype('float32').values, \n",
    "               validation_data=(X_val.tolist(), y_val.astype('float32').values), \n",
    "               batch_size=32, epochs=10, callbacks=[early_stop])"
   ]
  },
  {
   "cell_type": "markdown",
   "id": "eb56b29b",
   "metadata": {
    "papermill": {
     "duration": 0.059914,
     "end_time": "2025-04-04T18:52:42.447334",
     "exception": false,
     "start_time": "2025-04-04T18:52:42.387420",
     "status": "completed"
    },
    "tags": []
   },
   "source": [
    "## Model #3 Overview\n",
    "\n",
    "We can see a huge leap in performance from a pretrained model to our custom LSTM despite the longer time to compute.\n",
    "\n",
    "Our model seems to misclassify disasterous tweets as a non-disasterous tweet the most, (`f-score` is 87 versus 80). Accuracy is the highest though, at 84%."
   ]
  },
  {
   "cell_type": "code",
   "execution_count": 32,
   "id": "e11f8909",
   "metadata": {
    "execution": {
     "iopub.execute_input": "2025-04-04T18:52:42.551569Z",
     "iopub.status.busy": "2025-04-04T18:52:42.551201Z",
     "iopub.status.idle": "2025-04-04T18:52:42.756826Z",
     "shell.execute_reply": "2025-04-04T18:52:42.755855Z"
    },
    "papermill": {
     "duration": 0.259534,
     "end_time": "2025-04-04T18:52:42.758230",
     "exception": false,
     "start_time": "2025-04-04T18:52:42.498696",
     "status": "completed"
    },
    "tags": []
   },
   "outputs": [
    {
     "data": {
      "text/plain": [
       "<matplotlib.legend.Legend at 0x786b13bbb190>"
      ]
     },
     "execution_count": 32,
     "metadata": {},
     "output_type": "execute_result"
    },
    {
     "data": {
      "image/png": "[encoded data removed]",
      "text/plain": [
       "<Figure size 640x480 with 1 Axes>"
      ]
     },
     "metadata": {},
     "output_type": "display_data"
    }
   ],
   "source": [
    "plt.plot(history.history['loss'], label='Train BERT Loss')\n",
    "plt.plot(history.history['val_loss'], label='Val BERT Loss')\n",
    "plt.title('DistilBERT Loss / Epoch')\n",
    "plt.legend()"
   ]
  },
  {
   "cell_type": "code",
   "execution_count": 33,
   "id": "c44646b1",
   "metadata": {
    "execution": {
     "iopub.execute_input": "2025-04-04T18:52:42.864191Z",
     "iopub.status.busy": "2025-04-04T18:52:42.863881Z",
     "iopub.status.idle": "2025-04-04T18:52:52.425694Z",
     "shell.execute_reply": "2025-04-04T18:52:52.424858Z"
    },
    "papermill": {
     "duration": 9.615924,
     "end_time": "2025-04-04T18:52:52.427097",
     "exception": false,
     "start_time": "2025-04-04T18:52:42.811173",
     "status": "completed"
    },
    "tags": []
   },
   "outputs": [
    {
     "name": "stdout",
     "output_type": "stream",
     "text": [
      "\u001b[1m36/36\u001b[0m \u001b[32m━━━━━━━━━━━━━━━━━━━━\u001b[0m\u001b[37m\u001b[0m \u001b[1m9s\u001b[0m 148ms/step\n"
     ]
    },
    {
     "data": {
      "text/plain": [
       "<sklearn.metrics._plot.confusion_matrix.ConfusionMatrixDisplay at 0x786b0808b400>"
      ]
     },
     "execution_count": 33,
     "metadata": {},
     "output_type": "execute_result"
    },
    {
     "data": {
      "image/png": "[encoded data removed]",
      "text/plain": [
       "<Figure size 640x480 with 2 Axes>"
      ]
     },
     "metadata": {},
     "output_type": "display_data"
    }
   ],
   "source": [
    "y_pred = classifier.predict(X_test.tolist())\n",
    "y_pred_lbls = (y_pred > 0.5).astype(int)\n",
    "\n",
    "cm = confusion_matrix(y_test, y_pred_lbls)\n",
    "ConfusionMatrixDisplay(cm).plot()"
   ]
  },
  {
   "cell_type": "code",
   "execution_count": 34,
   "id": "6da0e169",
   "metadata": {
    "execution": {
     "iopub.execute_input": "2025-04-04T18:52:52.538826Z",
     "iopub.status.busy": "2025-04-04T18:52:52.538487Z",
     "iopub.status.idle": "2025-04-04T18:52:52.551683Z",
     "shell.execute_reply": "2025-04-04T18:52:52.550763Z"
    },
    "papermill": {
     "duration": 0.068911,
     "end_time": "2025-04-04T18:52:52.552925",
     "exception": false,
     "start_time": "2025-04-04T18:52:52.484014",
     "status": "completed"
    },
    "tags": []
   },
   "outputs": [
    {
     "name": "stdout",
     "output_type": "stream",
     "text": [
      "              precision    recall  f1-score   support\n",
      "\n",
      "           0       0.82      0.92      0.86       646\n",
      "           1       0.87      0.72      0.79       480\n",
      "\n",
      "    accuracy                           0.83      1126\n",
      "   macro avg       0.84      0.82      0.83      1126\n",
      "weighted avg       0.84      0.83      0.83      1126\n",
      "\n"
     ]
    }
   ],
   "source": [
    "print(classification_report(y_test, y_pred_lbls))"
   ]
  },
  {
   "cell_type": "markdown",
   "id": "cc2535c3",
   "metadata": {
    "papermill": {
     "duration": 0.053523,
     "end_time": "2025-04-04T18:52:52.661711",
     "exception": false,
     "start_time": "2025-04-04T18:52:52.608188",
     "status": "completed"
    },
    "tags": []
   },
   "source": [
    "# Model Comparisons\n",
    "If we combine all the models performance together, we should see that the pretrained model does the best (which makes sense, it's trained on a much larger database). However, in terms of speed, Logistic Regression would actually be the better option, as it suprisingly loses very little accuracy (slight precision change)."
   ]
  },
  {
   "cell_type": "code",
   "execution_count": 35,
   "id": "451009a9",
   "metadata": {
    "execution": {
     "iopub.execute_input": "2025-04-04T18:52:52.770151Z",
     "iopub.status.busy": "2025-04-04T18:52:52.769858Z",
     "iopub.status.idle": "2025-04-04T18:52:52.774803Z",
     "shell.execute_reply": "2025-04-04T18:52:52.774120Z"
    },
    "papermill": {
     "duration": 0.060801,
     "end_time": "2025-04-04T18:52:52.776145",
     "exception": false,
     "start_time": "2025-04-04T18:52:52.715344",
     "status": "completed"
    },
    "tags": []
   },
   "outputs": [],
   "source": [
    "def predict_lstm(model, dl, device):\n",
    "    model.eval()\n",
    "    all_preds = []\n",
    "    all_labels = []\n",
    "\n",
    "    with torch.no_grad():\n",
    "        for batch in dl:\n",
    "            X, y = batch\n",
    "            txt = X['text'].to(device)\n",
    "            kw = X['keyword'].to(device)\n",
    "            loc = X['location'].to(device)\n",
    "\n",
    "            outputs = model(txt, kw, loc)\n",
    "            preds = (outputs > 0.5).int().cpu().numpy()\n",
    "            all_preds.extend(preds)\n",
    "            all_labels.extend(y)\n",
    "    return np.array(all_preds), np.array(all_labels)"
   ]
  },
  {
   "cell_type": "code",
   "execution_count": 36,
   "id": "56e1acab",
   "metadata": {
    "execution": {
     "iopub.execute_input": "2025-04-04T18:52:52.885451Z",
     "iopub.status.busy": "2025-04-04T18:52:52.885098Z",
     "iopub.status.idle": "2025-04-04T18:52:52.957614Z",
     "shell.execute_reply": "2025-04-04T18:52:52.956893Z"
    },
    "papermill": {
     "duration": 0.128674,
     "end_time": "2025-04-04T18:52:52.959023",
     "exception": false,
     "start_time": "2025-04-04T18:52:52.830349",
     "status": "completed"
    },
    "tags": []
   },
   "outputs": [],
   "source": [
    "# data for log reg\n",
    "def convert_to_lr_model(df, processed_txt_name: str):\n",
    "    X = vector.transform(df[processed_txt_name]) # text -> tf-idf since we can't use text in log reg\n",
    "\n",
    "    X_kw = encoder.transform(df[['keyword', 'location']])\n",
    "\n",
    "    return hstack([X, X_kw])\n",
    "\n",
    "_, X_test_lr, _, y_test_lr = train_test_split(convert_to_lr_model(pp_train, 'processed_text'), \n",
    "                                        pp_train['target'], test_size=0.15,\n",
    "                                        stratify=pp_train['target'])"
   ]
  },
  {
   "cell_type": "code",
   "execution_count": 37,
   "id": "fa876a26",
   "metadata": {
    "execution": {
     "iopub.execute_input": "2025-04-04T18:52:53.069734Z",
     "iopub.status.busy": "2025-04-04T18:52:53.069430Z",
     "iopub.status.idle": "2025-04-04T18:52:55.938394Z",
     "shell.execute_reply": "2025-04-04T18:52:55.937575Z"
    },
    "papermill": {
     "duration": 2.925952,
     "end_time": "2025-04-04T18:52:55.939735",
     "exception": false,
     "start_time": "2025-04-04T18:52:53.013783",
     "status": "completed"
    },
    "tags": []
   },
   "outputs": [
    {
     "name": "stdout",
     "output_type": "stream",
     "text": [
      "\u001b[1m36/36\u001b[0m \u001b[32m━━━━━━━━━━━━━━━━━━━━\u001b[0m\u001b[37m\u001b[0m \u001b[1m2s\u001b[0m 51ms/step\n",
      "---------- DISTILBERT MODEL ----------\n",
      "               precision    recall  f1-score   support\n",
      "\n",
      "           0       0.82      0.92      0.86       646\n",
      "           1       0.87      0.72      0.79       480\n",
      "\n",
      "    accuracy                           0.83      1126\n",
      "   macro avg       0.84      0.82      0.83      1126\n",
      "weighted avg       0.84      0.83      0.83      1126\n",
      "\n",
      "---------- LSTM MODEL ----------\n",
      "               precision    recall  f1-score   support\n",
      "\n",
      "         0.0       0.79      0.76      0.78       660\n",
      "         1.0       0.68      0.71      0.70       466\n",
      "\n",
      "    accuracy                           0.74      1126\n",
      "   macro avg       0.73      0.74      0.74      1126\n",
      "weighted avg       0.74      0.74      0.74      1126\n",
      "\n",
      "---------- LOG REG MODEL ----------\n",
      "               precision    recall  f1-score   support\n",
      "\n",
      "           0       0.84      0.92      0.88       646\n",
      "           1       0.88      0.77      0.82       480\n",
      "\n",
      "    accuracy                           0.86      1126\n",
      "   macro avg       0.86      0.85      0.85      1126\n",
      "weighted avg       0.86      0.86      0.86      1126\n",
      "\n"
     ]
    }
   ],
   "source": [
    "# DISTILBERT MODEL\n",
    "y_pred_bert = classifier.predict(X_test.tolist())\n",
    "y_pred_lbls_bert = (y_pred_bert > 0.5).astype(int)\n",
    "\n",
    "# LSTM MODEL\n",
    "y_pred_lbls_lstm, y_true_lstm = predict_lstm(lstm_model, test_dl, device)\n",
    "\n",
    "# LOG REGRESSION MODEL\n",
    "y_pred_log = lr_model.predict(X_test_lr)\n",
    "\n",
    "\n",
    "\n",
    "print('---------- DISTILBERT MODEL ----------\\n',classification_report(y_test, y_pred_lbls_bert))\n",
    "print('---------- LSTM MODEL ----------\\n',classification_report(y_true_lstm, y_pred_lbls_lstm))\n",
    "print('---------- LOG REG MODEL ----------\\n',classification_report(y_test_lr, y_pred_log))"
   ]
  },
  {
   "cell_type": "markdown",
   "id": "5dc36a1c",
   "metadata": {
    "papermill": {
     "duration": 0.055217,
     "end_time": "2025-04-04T18:52:56.051439",
     "exception": false,
     "start_time": "2025-04-04T18:52:55.996222",
     "status": "completed"
    },
    "tags": []
   },
   "source": [
    "# Submission\n",
    "\n",
    "Overall, seeing logistic regression and a pre-trained BERT model perform closely in this scenario was quite interesting. This further highlights the importance of data processing, and how it can be used to create accurate ML models that can be compared to deep learning models such as LSTMS or DistilBERT"
   ]
  },
  {
   "cell_type": "code",
   "execution_count": 38,
   "id": "57396578",
   "metadata": {
    "execution": {
     "iopub.execute_input": "2025-04-04T18:52:56.165073Z",
     "iopub.status.busy": "2025-04-04T18:52:56.164760Z",
     "iopub.status.idle": "2025-04-04T18:52:56.206401Z",
     "shell.execute_reply": "2025-04-04T18:52:56.205489Z"
    },
    "papermill": {
     "duration": 0.099907,
     "end_time": "2025-04-04T18:52:56.207713",
     "exception": false,
     "start_time": "2025-04-04T18:52:56.107806",
     "status": "completed"
    },
    "tags": []
   },
   "outputs": [
    {
     "name": "stdout",
     "output_type": "stream",
     "text": [
      "Train Shape: (3263, 4)\n",
      "\n",
      "<class 'pandas.core.frame.DataFrame'>\n",
      "RangeIndex: 3263 entries, 0 to 3262\n",
      "Data columns (total 4 columns):\n",
      " #   Column    Non-Null Count  Dtype \n",
      "---  ------    --------------  ----- \n",
      " 0   id        3263 non-null   int64 \n",
      " 1   keyword   3237 non-null   object\n",
      " 2   location  2158 non-null   object\n",
      " 3   text      3263 non-null   object\n",
      "dtypes: int64(1), object(3)\n",
      "memory usage: 102.1+ KB\n"
     ]
    }
   ],
   "source": [
    "test = pd.read_csv('/kaggle/input/nlp-getting-started/test.csv')\n",
    "\n",
    "print(f'Train Shape: {test.shape}\\n')\n",
    "test.info()"
   ]
  },
  {
   "cell_type": "code",
   "execution_count": 39,
   "id": "9f24f9f2",
   "metadata": {
    "execution": {
     "iopub.execute_input": "2025-04-04T18:52:56.324251Z",
     "iopub.status.busy": "2025-04-04T18:52:56.323913Z",
     "iopub.status.idle": "2025-04-04T18:52:56.332610Z",
     "shell.execute_reply": "2025-04-04T18:52:56.331718Z"
    },
    "papermill": {
     "duration": 0.067453,
     "end_time": "2025-04-04T18:52:56.334564",
     "exception": false,
     "start_time": "2025-04-04T18:52:56.267111",
     "status": "completed"
    },
    "tags": []
   },
   "outputs": [
    {
     "data": {
      "text/html": [
       "<div>\n",
       "<style scoped>\n",
       "    .dataframe tbody tr th:only-of-type {\n",
       "        vertical-align: middle;\n",
       "    }\n",
       "\n",
       "    .dataframe tbody tr th {\n",
       "        vertical-align: top;\n",
       "    }\n",
       "\n",
       "    .dataframe thead th {\n",
       "        text-align: right;\n",
       "    }\n",
       "</style>\n",
       "<table border=\"1\" class=\"dataframe\">\n",
       "  <thead>\n",
       "    <tr style=\"text-align: right;\">\n",
       "      <th></th>\n",
       "      <th>id</th>\n",
       "      <th>keyword</th>\n",
       "      <th>location</th>\n",
       "      <th>text</th>\n",
       "    </tr>\n",
       "  </thead>\n",
       "  <tbody>\n",
       "    <tr>\n",
       "      <th>0</th>\n",
       "      <td>0</td>\n",
       "      <td>NaN</td>\n",
       "      <td>NaN</td>\n",
       "      <td>Just happened a terrible car crash</td>\n",
       "    </tr>\n",
       "    <tr>\n",
       "      <th>1</th>\n",
       "      <td>2</td>\n",
       "      <td>NaN</td>\n",
       "      <td>NaN</td>\n",
       "      <td>Heard about #earthquake is different cities, s...</td>\n",
       "    </tr>\n",
       "    <tr>\n",
       "      <th>2</th>\n",
       "      <td>3</td>\n",
       "      <td>NaN</td>\n",
       "      <td>NaN</td>\n",
       "      <td>there is a forest fire at spot pond, geese are...</td>\n",
       "    </tr>\n",
       "    <tr>\n",
       "      <th>3</th>\n",
       "      <td>9</td>\n",
       "      <td>NaN</td>\n",
       "      <td>NaN</td>\n",
       "      <td>Apocalypse lighting. #Spokane #wildfires</td>\n",
       "    </tr>\n",
       "    <tr>\n",
       "      <th>4</th>\n",
       "      <td>11</td>\n",
       "      <td>NaN</td>\n",
       "      <td>NaN</td>\n",
       "      <td>Typhoon Soudelor kills 28 in China and Taiwan</td>\n",
       "    </tr>\n",
       "  </tbody>\n",
       "</table>\n",
       "</div>"
      ],
      "text/plain": [
       "   id keyword location                                               text\n",
       "0   0     NaN      NaN                 Just happened a terrible car crash\n",
       "1   2     NaN      NaN  Heard about #earthquake is different cities, s...\n",
       "2   3     NaN      NaN  there is a forest fire at spot pond, geese are...\n",
       "3   9     NaN      NaN           Apocalypse lighting. #Spokane #wildfires\n",
       "4  11     NaN      NaN      Typhoon Soudelor kills 28 in China and Taiwan"
      ]
     },
     "execution_count": 39,
     "metadata": {},
     "output_type": "execute_result"
    }
   ],
   "source": [
    "test.head()"
   ]
  },
  {
   "cell_type": "code",
   "execution_count": 40,
   "id": "f5fc54f9",
   "metadata": {
    "execution": {
     "iopub.execute_input": "2025-04-04T18:52:56.471024Z",
     "iopub.status.busy": "2025-04-04T18:52:56.470484Z",
     "iopub.status.idle": "2025-04-04T18:53:38.043226Z",
     "shell.execute_reply": "2025-04-04T18:53:38.042292Z"
    },
    "papermill": {
     "duration": 41.704893,
     "end_time": "2025-04-04T18:53:38.102717",
     "exception": false,
     "start_time": "2025-04-04T18:52:56.397824",
     "status": "completed"
    },
    "tags": []
   },
   "outputs": [
    {
     "data": {
      "text/html": [
       "<div>\n",
       "<style scoped>\n",
       "    .dataframe tbody tr th:only-of-type {\n",
       "        vertical-align: middle;\n",
       "    }\n",
       "\n",
       "    .dataframe tbody tr th {\n",
       "        vertical-align: top;\n",
       "    }\n",
       "\n",
       "    .dataframe thead th {\n",
       "        text-align: right;\n",
       "    }\n",
       "</style>\n",
       "<table border=\"1\" class=\"dataframe\">\n",
       "  <thead>\n",
       "    <tr style=\"text-align: right;\">\n",
       "      <th></th>\n",
       "      <th>id</th>\n",
       "      <th>keyword</th>\n",
       "      <th>location</th>\n",
       "      <th>text</th>\n",
       "      <th>pp_txt</th>\n",
       "    </tr>\n",
       "  </thead>\n",
       "  <tbody>\n",
       "    <tr>\n",
       "      <th>0</th>\n",
       "      <td>0</td>\n",
       "      <td>terrible</td>\n",
       "      <td>No Keyword</td>\n",
       "      <td>Just happened a terrible car crash</td>\n",
       "      <td>happen terrible car crash</td>\n",
       "    </tr>\n",
       "    <tr>\n",
       "      <th>1</th>\n",
       "      <td>2</td>\n",
       "      <td>earthquake</td>\n",
       "      <td>No Keyword</td>\n",
       "      <td>Heard about #earthquake is different cities, s...</td>\n",
       "      <td>hear earthquake different city stay safe</td>\n",
       "    </tr>\n",
       "    <tr>\n",
       "      <th>2</th>\n",
       "      <td>3</td>\n",
       "      <td>fire</td>\n",
       "      <td>No Keyword</td>\n",
       "      <td>there is a forest fire at spot pond, geese are...</td>\n",
       "      <td>forest fire spot pond geese flee street save</td>\n",
       "    </tr>\n",
       "    <tr>\n",
       "      <th>3</th>\n",
       "      <td>9</td>\n",
       "      <td>apocalypse</td>\n",
       "      <td>No Keyword</td>\n",
       "      <td>Apocalypse lighting. #Spokane #wildfires</td>\n",
       "      <td>apocalypse lighting spokane wildfire</td>\n",
       "    </tr>\n",
       "    <tr>\n",
       "      <th>4</th>\n",
       "      <td>11</td>\n",
       "      <td>typhoon</td>\n",
       "      <td>taiwan</td>\n",
       "      <td>Typhoon Soudelor kills 28 in China and Taiwan</td>\n",
       "      <td>typhoon soudelor kill china taiwan</td>\n",
       "    </tr>\n",
       "    <tr>\n",
       "      <th>...</th>\n",
       "      <td>...</td>\n",
       "      <td>...</td>\n",
       "      <td>...</td>\n",
       "      <td>...</td>\n",
       "      <td>...</td>\n",
       "    </tr>\n",
       "    <tr>\n",
       "      <th>3258</th>\n",
       "      <td>10861</td>\n",
       "      <td>earthquake</td>\n",
       "      <td>No Keyword</td>\n",
       "      <td>EARTHQUAKE SAFETY LOS ANGELES ÛÒ SAFETY FASTE...</td>\n",
       "      <td>earthquake safety los angeles safety fastener ...</td>\n",
       "    </tr>\n",
       "    <tr>\n",
       "      <th>3259</th>\n",
       "      <td>10865</td>\n",
       "      <td>worse</td>\n",
       "      <td>No Keyword</td>\n",
       "      <td>Storm in RI worse than last hurricane. My city...</td>\n",
       "      <td>storm ri worse hurricane hard hit yard look li...</td>\n",
       "    </tr>\n",
       "    <tr>\n",
       "      <th>3260</th>\n",
       "      <td>10868</td>\n",
       "      <td>derailment</td>\n",
       "      <td>chicago</td>\n",
       "      <td>Green Line derailment in Chicago http://t.co/U...</td>\n",
       "      <td>green line derailment chicago</td>\n",
       "    </tr>\n",
       "    <tr>\n",
       "      <th>3261</th>\n",
       "      <td>10874</td>\n",
       "      <td>weather</td>\n",
       "      <td>No Keyword</td>\n",
       "      <td>MEG issues Hazardous Weather Outlook (HWO) htt...</td>\n",
       "      <td>meg issue hazardous weather outlook hwo</td>\n",
       "    </tr>\n",
       "    <tr>\n",
       "      <th>3262</th>\n",
       "      <td>10875</td>\n",
       "      <td>emergency</td>\n",
       "      <td>No Keyword</td>\n",
       "      <td>#CityofCalgary has activated its Municipal Eme...</td>\n",
       "      <td>cityofcalgary activate municipal emergency pla...</td>\n",
       "    </tr>\n",
       "  </tbody>\n",
       "</table>\n",
       "<p>3263 rows × 5 columns</p>\n",
       "</div>"
      ],
      "text/plain": [
       "         id     keyword    location  \\\n",
       "0         0    terrible  No Keyword   \n",
       "1         2  earthquake  No Keyword   \n",
       "2         3        fire  No Keyword   \n",
       "3         9  apocalypse  No Keyword   \n",
       "4        11     typhoon      taiwan   \n",
       "...     ...         ...         ...   \n",
       "3258  10861  earthquake  No Keyword   \n",
       "3259  10865       worse  No Keyword   \n",
       "3260  10868  derailment     chicago   \n",
       "3261  10874     weather  No Keyword   \n",
       "3262  10875   emergency  No Keyword   \n",
       "\n",
       "                                                   text  \\\n",
       "0                    Just happened a terrible car crash   \n",
       "1     Heard about #earthquake is different cities, s...   \n",
       "2     there is a forest fire at spot pond, geese are...   \n",
       "3              Apocalypse lighting. #Spokane #wildfires   \n",
       "4         Typhoon Soudelor kills 28 in China and Taiwan   \n",
       "...                                                 ...   \n",
       "3258  EARTHQUAKE SAFETY LOS ANGELES ÛÒ SAFETY FASTE...   \n",
       "3259  Storm in RI worse than last hurricane. My city...   \n",
       "3260  Green Line derailment in Chicago http://t.co/U...   \n",
       "3261  MEG issues Hazardous Weather Outlook (HWO) htt...   \n",
       "3262  #CityofCalgary has activated its Municipal Eme...   \n",
       "\n",
       "                                                 pp_txt  \n",
       "0                             happen terrible car crash  \n",
       "1              hear earthquake different city stay safe  \n",
       "2          forest fire spot pond geese flee street save  \n",
       "3                  apocalypse lighting spokane wildfire  \n",
       "4                    typhoon soudelor kill china taiwan  \n",
       "...                                                 ...  \n",
       "3258  earthquake safety los angeles safety fastener ...  \n",
       "3259  storm ri worse hurricane hard hit yard look li...  \n",
       "3260                      green line derailment chicago  \n",
       "3261            meg issue hazardous weather outlook hwo  \n",
       "3262  cityofcalgary activate municipal emergency pla...  \n",
       "\n",
       "[3263 rows x 5 columns]"
      ]
     },
     "execution_count": 40,
     "metadata": {},
     "output_type": "execute_result"
    }
   ],
   "source": [
    "# preprocess text to get keyword + location\n",
    "test['pp_txt'] = test['text'].apply(preprocess)\n",
    "\n",
    "# TF-IDF\n",
    "X = vector.transform(test['pp_txt'])\n",
    "vocab = vector.get_feature_names_out()\n",
    "\n",
    "loc_words = set()\n",
    "docs = list(nlp.pipe([f'I am in {w}' for w in vocab]))\n",
    "for word, doc in zip(vocab, docs):\n",
    "    if any(ent.label_ == 'GPE' for ent in doc.ents):\n",
    "        loc_words.add(word)\n",
    "\n",
    "test['keyword'] = [get_key(test['pp_txt'], i) for i in range(len(test))]\n",
    "test['location'] = [get_key(test['pp_txt'], i, True) for i in range(len(test))]\n",
    "\n",
    "test"
   ]
  },
  {
   "cell_type": "code",
   "execution_count": 41,
   "id": "9e325ea9",
   "metadata": {
    "execution": {
     "iopub.execute_input": "2025-04-04T18:53:38.219774Z",
     "iopub.status.busy": "2025-04-04T18:53:38.219451Z",
     "iopub.status.idle": "2025-04-04T18:53:47.037644Z",
     "shell.execute_reply": "2025-04-04T18:53:47.036913Z"
    },
    "papermill": {
     "duration": 8.87953,
     "end_time": "2025-04-04T18:53:47.039192",
     "exception": false,
     "start_time": "2025-04-04T18:53:38.159662",
     "status": "completed"
    },
    "tags": []
   },
   "outputs": [
    {
     "name": "stdout",
     "output_type": "stream",
     "text": [
      "\u001b[1m102/102\u001b[0m \u001b[32m━━━━━━━━━━━━━━━━━━━━\u001b[0m\u001b[37m\u001b[0m \u001b[1m8s\u001b[0m 76ms/step\n"
     ]
    }
   ],
   "source": [
    "combined_text = ('keyword: ' + test['keyword'] + \n",
    "                 ' location: ' + test['location'] + \n",
    "                 ' text: ' + test['text'])\n",
    "\n",
    "submission_log = lr_model.predict(convert_to_lr_model(test, 'pp_txt'))\n",
    "submission_bert = (classifier.predict(combined_text) > 0.5).astype(int)\n",
    "\n",
    "submission_log_df = pd.DataFrame({\n",
    "    'id': test['id'],\n",
    "    'target': submission_log\n",
    "})\n",
    "\n",
    "submission_bert_df = pd.DataFrame({\n",
    "    'id': test['id'],\n",
    "    'target': submission_bert.flatten()\n",
    "})\n",
    "\n",
    "submission_log_df.to_csv('submission_log.csv', index=False)\n",
    "submission_bert_df.to_csv('submission_bert.csv', index=False)"
   ]
  },
  {
   "cell_type": "code",
   "execution_count": 42,
   "id": "2b26553f",
   "metadata": {
    "execution": {
     "iopub.execute_input": "2025-04-04T18:53:47.166313Z",
     "iopub.status.busy": "2025-04-04T18:53:47.165989Z",
     "iopub.status.idle": "2025-04-04T18:53:47.173197Z",
     "shell.execute_reply": "2025-04-04T18:53:47.172543Z"
    },
    "papermill": {
     "duration": 0.071853,
     "end_time": "2025-04-04T18:53:47.174294",
     "exception": false,
     "start_time": "2025-04-04T18:53:47.102441",
     "status": "completed"
    },
    "tags": []
   },
   "outputs": [
    {
     "data": {
      "text/html": [
       "<div>\n",
       "<style scoped>\n",
       "    .dataframe tbody tr th:only-of-type {\n",
       "        vertical-align: middle;\n",
       "    }\n",
       "\n",
       "    .dataframe tbody tr th {\n",
       "        vertical-align: top;\n",
       "    }\n",
       "\n",
       "    .dataframe thead th {\n",
       "        text-align: right;\n",
       "    }\n",
       "</style>\n",
       "<table border=\"1\" class=\"dataframe\">\n",
       "  <thead>\n",
       "    <tr style=\"text-align: right;\">\n",
       "      <th></th>\n",
       "      <th>id</th>\n",
       "      <th>target</th>\n",
       "    </tr>\n",
       "  </thead>\n",
       "  <tbody>\n",
       "    <tr>\n",
       "      <th>0</th>\n",
       "      <td>0</td>\n",
       "      <td>1</td>\n",
       "    </tr>\n",
       "    <tr>\n",
       "      <th>1</th>\n",
       "      <td>2</td>\n",
       "      <td>1</td>\n",
       "    </tr>\n",
       "    <tr>\n",
       "      <th>2</th>\n",
       "      <td>3</td>\n",
       "      <td>1</td>\n",
       "    </tr>\n",
       "    <tr>\n",
       "      <th>3</th>\n",
       "      <td>9</td>\n",
       "      <td>0</td>\n",
       "    </tr>\n",
       "    <tr>\n",
       "      <th>4</th>\n",
       "      <td>11</td>\n",
       "      <td>1</td>\n",
       "    </tr>\n",
       "  </tbody>\n",
       "</table>\n",
       "</div>"
      ],
      "text/plain": [
       "   id  target\n",
       "0   0       1\n",
       "1   2       1\n",
       "2   3       1\n",
       "3   9       0\n",
       "4  11       1"
      ]
     },
     "execution_count": 42,
     "metadata": {},
     "output_type": "execute_result"
    }
   ],
   "source": [
    "submission_log_df.head()"
   ]
  },
  {
   "cell_type": "code",
   "execution_count": 43,
   "id": "66db4b3f",
   "metadata": {
    "execution": {
     "iopub.execute_input": "2025-04-04T18:53:47.300044Z",
     "iopub.status.busy": "2025-04-04T18:53:47.299743Z",
     "iopub.status.idle": "2025-04-04T18:53:47.306929Z",
     "shell.execute_reply": "2025-04-04T18:53:47.306043Z"
    },
    "papermill": {
     "duration": 0.070937,
     "end_time": "2025-04-04T18:53:47.308292",
     "exception": false,
     "start_time": "2025-04-04T18:53:47.237355",
     "status": "completed"
    },
    "tags": []
   },
   "outputs": [
    {
     "data": {
      "text/html": [
       "<div>\n",
       "<style scoped>\n",
       "    .dataframe tbody tr th:only-of-type {\n",
       "        vertical-align: middle;\n",
       "    }\n",
       "\n",
       "    .dataframe tbody tr th {\n",
       "        vertical-align: top;\n",
       "    }\n",
       "\n",
       "    .dataframe thead th {\n",
       "        text-align: right;\n",
       "    }\n",
       "</style>\n",
       "<table border=\"1\" class=\"dataframe\">\n",
       "  <thead>\n",
       "    <tr style=\"text-align: right;\">\n",
       "      <th></th>\n",
       "      <th>id</th>\n",
       "      <th>target</th>\n",
       "    </tr>\n",
       "  </thead>\n",
       "  <tbody>\n",
       "    <tr>\n",
       "      <th>0</th>\n",
       "      <td>0</td>\n",
       "      <td>1</td>\n",
       "    </tr>\n",
       "    <tr>\n",
       "      <th>1</th>\n",
       "      <td>2</td>\n",
       "      <td>1</td>\n",
       "    </tr>\n",
       "    <tr>\n",
       "      <th>2</th>\n",
       "      <td>3</td>\n",
       "      <td>1</td>\n",
       "    </tr>\n",
       "    <tr>\n",
       "      <th>3</th>\n",
       "      <td>9</td>\n",
       "      <td>1</td>\n",
       "    </tr>\n",
       "    <tr>\n",
       "      <th>4</th>\n",
       "      <td>11</td>\n",
       "      <td>1</td>\n",
       "    </tr>\n",
       "  </tbody>\n",
       "</table>\n",
       "</div>"
      ],
      "text/plain": [
       "   id  target\n",
       "0   0       1\n",
       "1   2       1\n",
       "2   3       1\n",
       "3   9       1\n",
       "4  11       1"
      ]
     },
     "execution_count": 43,
     "metadata": {},
     "output_type": "execute_result"
    }
   ],
   "source": [
    "submission_bert_df.head()"
   ]
  },
  {
   "cell_type": "code",
   "execution_count": null,
   "id": "a7cbfc43",
   "metadata": {
    "papermill": {
     "duration": 0.063655,
     "end_time": "2025-04-04T18:53:47.433548",
     "exception": false,
     "start_time": "2025-04-04T18:53:47.369893",
     "status": "completed"
    },
    "tags": []
   },
   "outputs": [],
   "source": []
  }
 ],
 "metadata": {
  "kaggle": {
   "accelerator": "gpu",
   "dataSources": [
    {
     "databundleVersionId": 869809,
     "sourceId": 17777,
     "sourceType": "competition"
    },
    {
     "modelId": 2821,
     "modelInstanceId": 4689,
     "sourceId": 6068,
     "sourceType": "modelInstanceVersion"
    }
   ],
   "dockerImageVersionId": 30918,
   "isGpuEnabled": true,
   "isInternetEnabled": true,
   "language": "python",
   "sourceType": "notebook"
  },
  "kernelspec": {
   "display_name": "Python 3",
   "language": "python",
   "name": "python3"
  },
  "language_info": {
   "codemirror_mode": {
    "name": "ipython",
    "version": 3
   },
   "file_extension": ".py",
   "mimetype": "text/x-python",
   "name": "python",
   "nbconvert_exporter": "python",
   "pygments_lexer": "ipython3",
   "version": "3.10.12"
  },
  "papermill": {
   "default_parameters": {},
   "duration": 402.078091,
   "end_time": "2025-04-04T18:53:51.210804",
   "environment_variables": {},
   "exception": null,
   "input_path": "__notebook__.ipynb",
   "output_path": "__notebook__.ipynb",
   "parameters": {},
   "start_time": "2025-04-04T18:47:09.132713",
   "version": "2.6.0"
  }
 },
 "nbformat": 4,
 "nbformat_minor": 5
}
